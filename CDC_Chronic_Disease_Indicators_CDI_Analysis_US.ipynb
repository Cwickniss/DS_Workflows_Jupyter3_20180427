{
 "cells": [
  {
   "cell_type": "markdown",
   "metadata": {
    "slideshow": {
     "slide_type": "slide"
    }
   },
   "source": [
    "### U.S. CDC Chronic Disease Indicators (CDI) Analysis"
   ]
  },
  {
   "cell_type": "markdown",
   "metadata": {
    "slideshow": {
     "slide_type": "slide"
    }
   },
   "source": [
    "This analysis is from the CDC U.S. Chronic Disease Indicators (CDI) Analysis https://catalog.data.gov/dataset/u-s-chronic-disease-indicators-cdi-e50c9  \n",
    "  \n",
    "Overview of data: https://www.cdc.gov/cdi/overview.html"
   ]
  },
  {
   "cell_type": "markdown",
   "metadata": {
    "slideshow": {
     "slide_type": "skip"
    }
   },
   "source": [
    "##### Download the demo files"
   ]
  },
  {
   "cell_type": "markdown",
   "metadata": {
    "slideshow": {
     "slide_type": "skip"
    }
   },
   "source": [
    "For this exercise, after downloading the file, remove both the `.`'s and the double underscore from the file name so it looks like:  \n",
    "`US_Chronic_Disease_Indicators_CDI.csv`.\n",
    "\n",
    "I also moved \"US\" to the end of the file name so my working file name is:  \n",
    "`Chronic_Disease_Indicators_CDI_US.csv`"
   ]
  },
  {
   "cell_type": "markdown",
   "metadata": {
    "slideshow": {
     "slide_type": "skip"
    }
   },
   "source": [
    "##### Interact with your file system through the notebook"
   ]
  },
  {
   "cell_type": "code",
   "execution_count": 107,
   "metadata": {
    "slideshow": {
     "slide_type": "skip"
    }
   },
   "outputs": [],
   "source": [
    "import os"
   ]
  },
  {
   "cell_type": "code",
   "execution_count": 108,
   "metadata": {
    "slideshow": {
     "slide_type": "skip"
    }
   },
   "outputs": [
    {
     "name": "stdout",
     "output_type": "stream",
     "text": [
      "9ddff4c5-1289-4d17-b47d-71244d28ed1c.json\r\n",
      "CDC_Chronic_Disease_Indicators_CDI_Analysis_US.ipynb\r\n",
      "Chronic_Disease_Indicators_Arthritis_US.csv\r\n",
      "Chronic_Disease_Indicators_CDI_US.csv\r\n",
      "Chronic_Disease_Indicators_CDI_US_2011-2016.csv\r\n",
      "Warm up - Instructor's Copy.ipynb\r\n",
      "macaron.png\r\n"
     ]
    }
   ],
   "source": [
    "ls"
   ]
  },
  {
   "cell_type": "code",
   "execution_count": 109,
   "metadata": {},
   "outputs": [
    {
     "name": "stdout",
     "output_type": "stream",
     "text": [
      "# packages in environment at /Users/jamiew/anaconda:\r\n",
      "#\r\n",
      "# Name                    Version                   Build  Channel\r\n",
      "_license                  1.1                      py27_1  \r\n",
      "abstract-rendering        0.5.1               np111py27_0    anaconda\r\n",
      "alabaster                 0.7.7                    py27_0  \r\n",
      "altair                    2.0.0rc2                  <pip>\r\n",
      "anaconda                  custom                   py27_0  \r\n",
      "anaconda-client           1.6.5            py27hc13fba8_0  \r\n",
      "anaconda-navigator        1.2.3                    py27_0  \r\n",
      "anaconda-project          0.8.2            py27h2dc806c_0  \r\n",
      "appnope                   0.1.0                    py27_0  \r\n",
      "appscript                 1.0.1                    py27_0  \r\n",
      "argcomplete               1.0.0                    py27_1  \r\n",
      "astroid                   1.5.3                    py27_0  \r\n",
      "astropy                   1.3.1               np111py27_0    anaconda\r\n",
      "babel                     2.2.0                    py27_0  \r\n",
      "backports                 1.0                      py27_0  \r\n",
      "backports-abc             0.5                       <pip>\r\n",
      "backports.shutil-get-terminal-size 1.0.0                     <pip>\r\n",
      "backports.shutil_which    3.5.1                     <pip>\r\n",
      "backports_abc             0.4                      py27_0  \r\n",
      "basemap                   1.0.7               np111py27_0  \r\n",
      "beautifulsoup4            4.4.1                    py27_0  \r\n",
      "bitarray                  0.8.1                    py27_0  \r\n",
      "bkcharts                  0.2              py27haafc882_0  \r\n",
      "blas                      1.1                    openblas    conda-forge\r\n",
      "blaze                     0.9.1                    py27_0  \r\n",
      "blaze-core                0.9.0                    py27_0  \r\n",
      "bleach                    2.1.3                     <pip>\r\n",
      "bokeh                     0.12.14                    py_0    bokeh\r\n",
      "boto                      2.46.1                    <pip>\r\n",
      "boto                      2.39.0                   py27_0  \r\n",
      "bottleneck                1.2.0               np111py27_0    anaconda\r\n",
      "brewer2mpl                1.4.1                    py27_2    conda-forge\r\n",
      "cartopy                   0.14.3              np111py27_3    conda-forge\r\n",
      "cdecimal                  2.3                      py27_0  \r\n",
      "certifi                   2017.4.17                 <pip>\r\n",
      "cffi                      1.5.2                    py27_0  \r\n",
      "chardet                   3.0.4                    py27_0  \r\n",
      "chardet                   3.0.4                     <pip>\r\n",
      "chest                     0.2.3                    py27_0  \r\n",
      "click                     6.7                       <pip>\r\n",
      "cloudpickle               0.1.1                    py27_0  \r\n",
      "clyent                    1.2.1                    py27_0  \r\n",
      "colorama                  0.3.7                    py27_0  \r\n",
      "colorcet                  0.9.1                    py27_0    bokeh\r\n",
      "conda                     4.5.0                    py27_0    conda-forge\r\n",
      "conda-build               1.19.0                   py27_0  \r\n",
      "conda-env                 2.6.0                         0    conda-forge\r\n",
      "conda-manager             0.3.1                    py27_0  \r\n",
      "configobj                 5.0.6                    py27_0  \r\n",
      "configparser              3.5.0                    py27_0  \r\n",
      "cryptography              1.7.1                    py27_0  \r\n",
      "curl                      7.45.0                        0  \r\n",
      "cycler                    0.10.0                   py27_0  \r\n",
      "cymem                     1.31.2                   py27_0  \r\n",
      "cymem                     1.31.2                    <pip>\r\n",
      "cython                    0.23.4                   py27_1  \r\n",
      "cytoolz                   0.8.2                    py27_0    conda-forge\r\n",
      "cytoolz                   0.8.2                     <pip>\r\n",
      "dask                      0.8.1                    py27_0  \r\n",
      "datashader                0.6.0                    py27_0    bokeh\r\n",
      "datashape                 0.5.1                    py27_0  \r\n",
      "decorator                 4.2.1                     <pip>\r\n",
      "decorator                 4.0.9                    py27_0  \r\n",
      "dill                      0.2.6                     <pip>\r\n",
      "dill                      0.2.4                    py27_0  \r\n",
      "docutils                  0.12                     py27_0  \r\n",
      "dynd-python               0.7.2                    py27_0  \r\n",
      "en-core-web-sm            1.2.0                     <pip>\r\n",
      "entrypoints               0.2.3                     <pip>\r\n",
      "enum34                    1.1.2                    py27_0  \r\n",
      "enum34                    1.1.6                     <pip>\r\n",
      "et_xmlfile                1.0.1                    py27_0  \r\n",
      "fastcache                 1.0.2                    py27_0  \r\n",
      "findspark                 1.1.0                     <pip>\r\n",
      "flask                     0.10.1                   py27_1  \r\n",
      "flask-cors                2.1.2                    py27_0  \r\n",
      "freetype                  2.5.5                         2  \r\n",
      "ftfy                      4.4.3                     <pip>\r\n",
      "funcsigs                  0.4                      py27_0  \r\n",
      "functools32               3.2.3.2          py27h8ceab06_1  \r\n",
      "functools_lru_cache       1.4                      py27_0  \r\n",
      "futures                   3.2.0                     <pip>\r\n",
      "futures                   3.0.3                    py27_0  \r\n",
      "futures-compat            1.0                       py2_0  \r\n",
      "gensim                    1.0.1                     <pip>\r\n",
      "geopy                     1.11.0                    <pip>\r\n",
      "geos                      3.4.2                         0  \r\n",
      "geoviews                  1.3.2                    py27_0    ioam\r\n",
      "getorg                    0.3.1                     <pip>\r\n",
      "gevent                    1.1.0                    py27_0  \r\n",
      "gevent-websocket          0.9.5                    py27_1  \r\n",
      "ggplot                    0.11.5                   py27_2    conda-forge\r\n",
      "gitdb2                    2.0.3                     <pip>\r\n",
      "GitPython                 2.1.8                     <pip>\r\n",
      "graphviz                  2.38.0                        4  \r\n",
      "greenlet                  0.4.9                    py27_0  \r\n",
      "grin                      1.2.1                    py27_1  \r\n",
      "h5py                      2.7.0               np111py27_0    anaconda\r\n",
      "hdf5                      1.8.17                        1    anaconda\r\n",
      "heapdict                  1.0.0                    py27_0  \r\n",
      "holoviews                 1.8.3                     <pip>\r\n",
      "holoviews                 1.8.2                    py27_0    conda-forge\r\n",
      "html5lib                  1.0.1                     <pip>\r\n",
      "husl                      4.0.3                     <pip>\r\n",
      "icu                       54.1                          0  \r\n",
      "idna                      2.5                       <pip>\r\n",
      "idna                      2.0                      py27_0  \r\n",
      "ipaddress                 1.0.14                   py27_0  \r\n",
      "ipykernel                 4.8.2                     <pip>\r\n",
      "ipykernel                 4.3.1                    py27_0  \r\n",
      "ipyleaflet                0.3.0                     <pip>\r\n",
      "ipython                   5.6.0                     <pip>\r\n",
      "ipython                   4.1.2                    py27_1  \r\n",
      "ipython-genutils          0.2.0                     <pip>\r\n",
      "ipython-notebook          4.0.4                    py27_0  \r\n",
      "ipython-qtconsole         4.0.1                    py27_0  \r\n",
      "ipython_genutils          0.1.0                    py27_0  \r\n",
      "ipywidgets                6.0.0                     <pip>\r\n",
      "ipywidgets                4.1.1                    py27_0  \r\n",
      "isort                     4.2.15                   py27_0  \r\n",
      "itsdangerous              0.24                     py27_0  \r\n",
      "jbig                      2.1                           0  \r\n",
      "jdcal                     1.2                      py27_0  \r\n",
      "jedi                      0.9.0                    py27_0  \r\n",
      "jinja2                    2.8                      py27_0  \r\n",
      "Jinja2                    2.10                      <pip>\r\n",
      "jpeg                      9b                            0  \r\n",
      "jsonschema                2.4.0                    py27_0  \r\n",
      "jsonschema                2.6.0                     <pip>\r\n",
      "jupyter                   1.0.0                    py27_3  \r\n",
      "jupyter_client            5.2.3                    py27_0    conda-forge\r\n",
      "jupyter_console           4.1.1                    py27_0  \r\n",
      "jupyter_core              4.4.0                      py_0    conda-forge\r\n",
      "jupyterlab                0.31.12                  py27_1    conda-forge\r\n",
      "jupyterlab                0.11.2                    <pip>\r\n",
      "jupyterlab-geojson        0.3.0                     <pip>\r\n",
      "jupyterlab_launcher       0.10.5                   py27_0    conda-forge\r\n",
      "lancet                    0.9.0                    py27_0    conda-forge\r\n",
      "lancet-ioam               0.9.0                     <pip>\r\n",
      "launcher                  1.0.0                         3  \r\n",
      "lazy-object-proxy         1.3.1                    py27_0  \r\n",
      "lda                       1.0.5                     <pip>\r\n",
      "libcxx                    4.0.1                h579ed51_0  \r\n",
      "libcxxabi                 4.0.1                hebd6815_0  \r\n",
      "libdynd                   0.7.2                         0  \r\n",
      "libgfortran               3.0.0                         0    conda-forge\r\n",
      "libpng                    1.6.27                        0  \r\n",
      "libtiff                   4.0.6                         3  \r\n",
      "libxml2                   2.9.2                         0  \r\n",
      "libxslt                   1.1.28                        2  \r\n",
      "llvmlite                  0.16.0                   py27_0    anaconda\r\n",
      "locket                    0.2.0                    py27_0  \r\n",
      "lxml                      3.6.0                    py27_0  \r\n",
      "markupsafe                0.23                     py27_0  \r\n",
      "MarkupSafe                1.0                       <pip>\r\n",
      "matplotlib                1.5.1               np111py27_0  \r\n",
      "mistune                   0.7.2                    py27_1  \r\n",
      "mistune                   0.8.3                     <pip>\r\n",
      "mkl                       2017.0.1                      0    anaconda\r\n",
      "mkl-service               1.1.2                    py27_3    anaconda\r\n",
      "mock                      2.0.0                    py27_0    conda-forge\r\n",
      "mpld3                     0.2                      py27_0  \r\n"
     ]
    },
    {
     "name": "stdout",
     "output_type": "stream",
     "text": [
      "mpmath                    0.19                     py27_0  \r\n",
      "multipledispatch          0.4.8                    py27_0  \r\n",
      "murmurhash                0.26.4                    <pip>\r\n",
      "murmurhash                0.26.4                   py27_0  \r\n",
      "nbconvert                 5.3.1                     <pip>\r\n",
      "nbconvert                 4.1.0                    py27_0  \r\n",
      "nbdime                    0.4.1                     <pip>\r\n",
      "nbformat                  4.3.0                    py27_0  \r\n",
      "nbformat                  4.3.0                     <pip>\r\n",
      "nbformat                  4.4.0                     <pip>\r\n",
      "networkx                  1.11                     py27_0  \r\n",
      "nltk                      3.2                      py27_0  \r\n",
      "nltk                      3.2.2                     <pip>\r\n",
      "node-webkit               0.10.1                        0  \r\n",
      "normalization             0.4                       <pip>\r\n",
      "nose                      1.3.7                    py27_0  \r\n",
      "notebook                  5.4.1                    py27_0    conda-forge\r\n",
      "notebook                  4.4.1                     <pip>\r\n",
      "numba                     0.31.0              np111py27_0    anaconda\r\n",
      "numexpr                   2.6.2               np111py27_0    anaconda\r\n",
      "numpy                     1.11.3          py27_blas_openblas_203  [blas_openblas]  conda-forge\r\n",
      "numpy                     1.13.0                    <pip>\r\n",
      "numpydoc                  0.7.0                    py27_0  \r\n",
      "odo                       0.4.2                    py27_0  \r\n",
      "olefile                   0.44                     py27_0  \r\n",
      "openblas                  0.2.20                        7    conda-forge\r\n",
      "openpyxl                  2.3.2                    py27_0  \r\n",
      "openssl                   1.0.2g                        0  \r\n",
      "owslib                    0.14.0                   py27_1    conda-forge\r\n",
      "packaging                 17.1                       py_0    conda-forge\r\n",
      "pandas                    0.19.2              np111py27_1    anaconda\r\n",
      "pandocfilters             1.4.2                     <pip>\r\n",
      "param                     1.5.1                    py27_0  \r\n",
      "param                     1.5.1                     <pip>\r\n",
      "partd                     0.3.2                    py27_1  \r\n",
      "path.py                   8.1.2                    py27_1  \r\n",
      "pathlib                   1.0.1                     <pip>\r\n",
      "pathlib                   1.0.1                    py27_0    conda-forge\r\n",
      "pathlib2                  2.3.0                     <pip>\r\n",
      "patsy                     0.4.1                    py27_0    anaconda\r\n",
      "pbr                       3.1.1                    py27_0    conda-forge\r\n",
      "pbr                       3.1.1                     <pip>\r\n",
      "pep8                      1.7.0                    py27_0  \r\n",
      "pexpect                   4.4.0                     <pip>\r\n",
      "pexpect                   4.0.1                    py27_0  \r\n",
      "pickleshare               0.5                      py27_0  \r\n",
      "pickleshare               0.7.4                     <pip>\r\n",
      "pillow                    4.1.1                    py27_0  \r\n",
      "pip                       9.0.3                     <pip>\r\n",
      "pip                       8.1.1                    py27_1  \r\n",
      "plac                      0.9.6                    py27_0  \r\n",
      "plac                      0.9.6                     <pip>\r\n",
      "plotly                    2.0.11                   py27_0  \r\n",
      "ply                       3.8                      py27_0  \r\n",
      "preshed                   1.0.0                     <pip>\r\n",
      "preshed                   1.0.0                    py27_0    conda-forge\r\n",
      "proj4                     4.9.3                         4    conda-forge\r\n",
      "prompt-toolkit            1.0.15                    <pip>\r\n",
      "psutil                    4.1.0                    py27_1  \r\n",
      "ptyprocess                0.5.2                     <pip>\r\n",
      "ptyprocess                0.5                      py27_0  \r\n",
      "py                        1.4.31                   py27_0  \r\n",
      "pyasn1                    0.1.9                    py27_0  \r\n",
      "pyaudio                   0.2.7                    py27_0  \r\n",
      "pycodestyle               2.3.1                    py27_0  \r\n",
      "pycosat                   0.6.3                    py27_0    conda-forge\r\n",
      "pycparser                 2.14                     py27_0  \r\n",
      "pycrypto                  2.6.1                    py27_0  \r\n",
      "pycurl                    7.19.5.3                 py27_0  \r\n",
      "pydotplus                 2.0.2                     <pip>\r\n",
      "pyepsg                    0.3.2                    py27_0    conda-forge\r\n",
      "pyflakes                  1.1.0                    py27_0  \r\n",
      "PyGithub                  1.26.0                    <pip>\r\n",
      "pygments                  2.1.1                    py27_0  \r\n",
      "Pygments                  2.2.0                     <pip>\r\n",
      "pylint                    1.7.2                    py27_0  \r\n",
      "pyopenssl                 16.2.0                   py27_0  \r\n",
      "pyparsing                 2.0.3                    py27_0  \r\n",
      "pyproj                    1.9.5.1                  py27_0    conda-forge\r\n",
      "pyqt                      4.11.4                   py27_2    conda-forge\r\n",
      "pyshp                     1.2.11                   py27_0    conda-forge\r\n",
      "pytables                  3.3.0               np111py27_0    anaconda\r\n",
      "pytest                    2.8.5                    py27_0  \r\n",
      "python                    2.7.11                        0  \r\n",
      "python-dateutil           2.7.2                     <pip>\r\n",
      "python-dateutil           2.5.1                    py27_0  \r\n",
      "python.app                1.2                      py27_4  \r\n",
      "pytz                      2016.2                   py27_0  \r\n",
      "pyyaml                    3.11                     py27_1  \r\n",
      "pyzmq                     17.0.0                    <pip>\r\n",
      "pyzmq                     15.2.0                   py27_0  \r\n",
      "qt                        4.8.7                         4  \r\n",
      "qtawesome                 0.4.4                    py27_0  \r\n",
      "qtconsole                 4.3.1            py27hdc90b4f_0  \r\n",
      "qtpy                      1.3.1                    py27_0  \r\n",
      "quandl                    2.8.9                    py27_0  \r\n",
      "readline                  6.2                           2  \r\n",
      "redis                     2.6.9                         0  \r\n",
      "redis-py                  2.10.3                   py27_0  \r\n",
      "regex                     2017.4.5                  <pip>\r\n",
      "requests                  2.13.0                   py27_0  \r\n",
      "requests                  2.18.1                    <pip>\r\n",
      "requests                  2.13.0                    <pip>\r\n",
      "retrying                  1.3.3                     <pip>\r\n",
      "rise                      5.1.0                    py27_0    damianavila82\r\n",
      "rope                      0.9.4                    py27_1  \r\n",
      "rq                        0.8.1                     <pip>\r\n",
      "ruamel_yaml               0.11.14                  py27_0  \r\n",
      "scandir                   1.7                       <pip>\r\n",
      "scikit-image              0.12.3              np111py27_1    anaconda\r\n",
      "scikit-learn              0.19.1          py27_blas_openblas_201  [blas_openblas]  conda-forge\r\n",
      "scipy                     1.0.0           py27_blas_openblas_201  [blas_openblas]  conda-forge\r\n",
      "seaborn                   0.7.1                     <pip>\r\n",
      "semver                    2.7.6                    py27_0  \r\n",
      "send2trash                1.5.0                      py_0    conda-forge\r\n",
      "setuptools                39.0.1                    <pip>\r\n",
      "setuptools                20.3                     py27_0  \r\n",
      "shapely                   1.5.17              np111py27_0    conda-forge\r\n",
      "simplegeneric             0.8.1                    py27_0  \r\n",
      "simplejson                3.10.0                   py27_0  \r\n",
      "singledispatch            3.4.0.3                  py27_0  \r\n",
      "sip                       4.18                     py27_1    conda-forge\r\n",
      "six                       1.10.0                   py27_0  \r\n",
      "six                       1.11.0                    <pip>\r\n",
      "smart-open                1.5.1                     <pip>\r\n",
      "smmap2                    2.0.3                     <pip>\r\n",
      "snowballstemmer           1.2.1                    py27_0  \r\n",
      "sockjs-tornado            1.0.1                    py27_0  \r\n",
      "spacy                     1.7.2                     <pip>\r\n",
      "spacy                     1.8.2                     <pip>\r\n",
      "spacy                     1.7.3               np111py27_0    conda-forge\r\n",
      "sphinx                    1.3.5                    py27_0  \r\n",
      "sphinx_rtd_theme          0.1.9                    py27_0  \r\n",
      "sputnik                   0.9.3                    py27_1  \r\n",
      "spyder                    3.2.3                    py27_0  \r\n",
      "sql-magic                 0.0.3                     <pip>\r\n",
      "sqlalchemy                1.0.12                   py27_0  \r\n",
      "sqlite                    3.9.2                         0  \r\n",
      "sqlparse                  0.2.4                     <pip>\r\n",
      "ssl_match_hostname        3.4.0.2                  py27_0  \r\n",
      "statsmodels               0.8.0               np111py27_0    anaconda\r\n",
      "subprocess32              3.2.7            py27h24b2887_0  \r\n",
      "sympy                     1.0                      py27_0  \r\n",
      "termcolor                 1.1.0                     <pip>\r\n",
      "termcolor                 1.1.0                    py27_1    conda-forge\r\n",
      "terminado                 0.8.1                    py27_0    conda-forge\r\n",
      "terminado                 0.8.1                     <pip>\r\n",
      "testpath                  0.3.1                     <pip>\r\n",
      "thinc                     6.5.2                     <pip>\r\n",
      "thinc                     6.5.2               np111py27_0    conda-forge\r\n",
      "tk                        8.5.18                        0  \r\n",
      "toolz                     0.8.2                     <pip>\r\n",
      "toolz                     0.8.2                    py27_0    conda-forge\r\n",
      "tornado                   4.3                      py27_0  \r\n",
      "tornado                   5.0.2                     <pip>\r\n",
      "tqdm                      4.14.0                    <pip>\r\n",
      "tqdm                      4.11.2                    <pip>\r\n",
      "tqdm                      4.11.2                   py27_0    conda-forge\r\n",
      "traitlets                 4.3.2                     <pip>\r\n",
      "traitlets                 4.2.1                    py27_0  \r\n",
      "ujson                     1.35                     py27_0  \r\n",
      "ujson                     1.35                      <pip>\r\n",
      "unicodecsv                0.14.1                   py27_0  \r\n",
      "urllib3                   1.21.1                    <pip>\r\n",
      "vaderSentiment            2.5                       <pip>\r\n",
      "vega-datasets             0.4.1                     <pip>\r\n",
      "vega3                     0.6.0                     <pip>\r\n",
      "wcwidth                   0.1.7                     <pip>\r\n",
      "webencodings              0.5.1                     <pip>\r\n",
      "werkzeug                  0.11.4                   py27_0  \r\n",
      "wheel                     0.29.0                   py27_0  \r\n",
      "widgetsnbextension        2.0.0                     <pip>\r\n",
      "wrapt                     1.10.8                   py27_0    conda-forge\r\n",
      "wrapt                     1.10.10                   <pip>\r\n",
      "xarray                    0.9.6                    py27_0  \r\n",
      "xlrd                      0.9.4                    py27_0  \r\n",
      "xlsxwriter                0.8.4                    py27_0  \r\n",
      "xlwings                   0.7.0                    py27_0  \r\n",
      "xlwt                      1.0.0                    py27_0  \r\n",
      "xz                        5.2.2                         1  \r\n",
      "yaml                      0.1.6                         0  \r\n",
      "zeromq                    4.1.3                         0  \r\n",
      "zlib                      1.2.8                         0  \r\n"
     ]
    }
   ],
   "source": [
    "!conda list"
   ]
  },
  {
   "cell_type": "markdown",
   "metadata": {
    "slideshow": {
     "slide_type": "slide"
    }
   },
   "source": [
    "##### Import your Libraries"
   ]
  },
  {
   "cell_type": "code",
   "execution_count": 110,
   "metadata": {
    "slideshow": {
     "slide_type": "slide"
    }
   },
   "outputs": [],
   "source": [
    "%matplotlib inline\n",
    "\n",
    "import pandas as pd\n",
    "import numpy as np\n",
    "import matplotlib.pyplot as plt"
   ]
  },
  {
   "cell_type": "markdown",
   "metadata": {
    "slideshow": {
     "slide_type": "slide"
    }
   },
   "source": [
    "##### Read in your CSV file using Pandas"
   ]
  },
  {
   "cell_type": "code",
   "execution_count": 111,
   "metadata": {
    "slideshow": {
     "slide_type": "slide"
    }
   },
   "outputs": [
    {
     "name": "stdout",
     "output_type": "stream",
     "text": [
      "CPU times: user 2 µs, sys: 0 ns, total: 2 µs\n",
      "Wall time: 5.01 µs\n"
     ]
    }
   ],
   "source": [
    "#data = 'filepath/Datasets'\n",
    "df_cdi = pd.read_csv('Chronic_Disease_Indicators_CDI_US.csv', encoding='latin1', dtype=object)\n",
    "\n",
    "%time"
   ]
  },
  {
   "cell_type": "markdown",
   "metadata": {
    "slideshow": {
     "slide_type": "slide"
    }
   },
   "source": [
    "## Manipulating Data in Pandas"
   ]
  },
  {
   "cell_type": "markdown",
   "metadata": {
    "slideshow": {
     "slide_type": "slide"
    }
   },
   "source": [
    "### Familiarize yourself with the dataset\n",
    "##### Find the shape of the dataframe"
   ]
  },
  {
   "cell_type": "code",
   "execution_count": 112,
   "metadata": {
    "scrolled": true,
    "slideshow": {
     "slide_type": "slide"
    }
   },
   "outputs": [
    {
     "data": {
      "text/plain": [
       "(403984, 34)"
      ]
     },
     "execution_count": 112,
     "metadata": {},
     "output_type": "execute_result"
    }
   ],
   "source": [
    "df_cdi.shape"
   ]
  },
  {
   "cell_type": "markdown",
   "metadata": {
    "slideshow": {
     "slide_type": "slide"
    }
   },
   "source": [
    "This dataframe is 403984 rows and 34 columns. That's not huge, but a little big for what working quickly today. "
   ]
  },
  {
   "cell_type": "markdown",
   "metadata": {
    "slideshow": {
     "slide_type": "slide"
    }
   },
   "source": [
    "##### Let's look at the first 5 rows of the dataframe"
   ]
  },
  {
   "cell_type": "code",
   "execution_count": 113,
   "metadata": {
    "scrolled": false,
    "slideshow": {
     "slide_type": "slide"
    }
   },
   "outputs": [
    {
     "data": {
      "text/html": [
       "<div>\n",
       "<table border=\"1\" class=\"dataframe\">\n",
       "  <thead>\n",
       "    <tr style=\"text-align: right;\">\n",
       "      <th></th>\n",
       "      <th>YearStart</th>\n",
       "      <th>YearEnd</th>\n",
       "      <th>LocationAbbr</th>\n",
       "      <th>LocationDesc</th>\n",
       "      <th>DataSource</th>\n",
       "      <th>Topic</th>\n",
       "      <th>Question</th>\n",
       "      <th>Response</th>\n",
       "      <th>DataValueUnit</th>\n",
       "      <th>DataValueType</th>\n",
       "      <th>...</th>\n",
       "      <th>LocationID</th>\n",
       "      <th>TopicID</th>\n",
       "      <th>QuestionID</th>\n",
       "      <th>DataValueTypeID</th>\n",
       "      <th>StratificationCategoryID1</th>\n",
       "      <th>StratificationID1</th>\n",
       "      <th>StratificationCategoryID2</th>\n",
       "      <th>StratificationID2</th>\n",
       "      <th>StratificationCategoryID3</th>\n",
       "      <th>StratificationID3</th>\n",
       "    </tr>\n",
       "  </thead>\n",
       "  <tbody>\n",
       "    <tr>\n",
       "      <th>0</th>\n",
       "      <td>2015</td>\n",
       "      <td>2015</td>\n",
       "      <td>AK</td>\n",
       "      <td>Alaska</td>\n",
       "      <td>YRBSS</td>\n",
       "      <td>Alcohol</td>\n",
       "      <td>Alcohol use among youth</td>\n",
       "      <td>NaN</td>\n",
       "      <td>%</td>\n",
       "      <td>Crude Prevalence</td>\n",
       "      <td>...</td>\n",
       "      <td>2</td>\n",
       "      <td>ALC</td>\n",
       "      <td>ALC1_1</td>\n",
       "      <td>CrdPrev</td>\n",
       "      <td>OVERALL</td>\n",
       "      <td>OVR</td>\n",
       "      <td>NaN</td>\n",
       "      <td>NaN</td>\n",
       "      <td>NaN</td>\n",
       "      <td>NaN</td>\n",
       "    </tr>\n",
       "    <tr>\n",
       "      <th>1</th>\n",
       "      <td>2015</td>\n",
       "      <td>2015</td>\n",
       "      <td>AL</td>\n",
       "      <td>Alabama</td>\n",
       "      <td>YRBSS</td>\n",
       "      <td>Alcohol</td>\n",
       "      <td>Alcohol use among youth</td>\n",
       "      <td>NaN</td>\n",
       "      <td>%</td>\n",
       "      <td>Crude Prevalence</td>\n",
       "      <td>...</td>\n",
       "      <td>1</td>\n",
       "      <td>ALC</td>\n",
       "      <td>ALC1_1</td>\n",
       "      <td>CrdPrev</td>\n",
       "      <td>OVERALL</td>\n",
       "      <td>OVR</td>\n",
       "      <td>NaN</td>\n",
       "      <td>NaN</td>\n",
       "      <td>NaN</td>\n",
       "      <td>NaN</td>\n",
       "    </tr>\n",
       "    <tr>\n",
       "      <th>2</th>\n",
       "      <td>2015</td>\n",
       "      <td>2015</td>\n",
       "      <td>AR</td>\n",
       "      <td>Arkansas</td>\n",
       "      <td>YRBSS</td>\n",
       "      <td>Alcohol</td>\n",
       "      <td>Alcohol use among youth</td>\n",
       "      <td>NaN</td>\n",
       "      <td>%</td>\n",
       "      <td>Crude Prevalence</td>\n",
       "      <td>...</td>\n",
       "      <td>5</td>\n",
       "      <td>ALC</td>\n",
       "      <td>ALC1_1</td>\n",
       "      <td>CrdPrev</td>\n",
       "      <td>OVERALL</td>\n",
       "      <td>OVR</td>\n",
       "      <td>NaN</td>\n",
       "      <td>NaN</td>\n",
       "      <td>NaN</td>\n",
       "      <td>NaN</td>\n",
       "    </tr>\n",
       "    <tr>\n",
       "      <th>3</th>\n",
       "      <td>2015</td>\n",
       "      <td>2015</td>\n",
       "      <td>AZ</td>\n",
       "      <td>Arizona</td>\n",
       "      <td>YRBSS</td>\n",
       "      <td>Alcohol</td>\n",
       "      <td>Alcohol use among youth</td>\n",
       "      <td>NaN</td>\n",
       "      <td>%</td>\n",
       "      <td>Crude Prevalence</td>\n",
       "      <td>...</td>\n",
       "      <td>4</td>\n",
       "      <td>ALC</td>\n",
       "      <td>ALC1_1</td>\n",
       "      <td>CrdPrev</td>\n",
       "      <td>OVERALL</td>\n",
       "      <td>OVR</td>\n",
       "      <td>NaN</td>\n",
       "      <td>NaN</td>\n",
       "      <td>NaN</td>\n",
       "      <td>NaN</td>\n",
       "    </tr>\n",
       "    <tr>\n",
       "      <th>4</th>\n",
       "      <td>2015</td>\n",
       "      <td>2015</td>\n",
       "      <td>CA</td>\n",
       "      <td>California</td>\n",
       "      <td>YRBSS</td>\n",
       "      <td>Alcohol</td>\n",
       "      <td>Alcohol use among youth</td>\n",
       "      <td>NaN</td>\n",
       "      <td>%</td>\n",
       "      <td>Crude Prevalence</td>\n",
       "      <td>...</td>\n",
       "      <td>6</td>\n",
       "      <td>ALC</td>\n",
       "      <td>ALC1_1</td>\n",
       "      <td>CrdPrev</td>\n",
       "      <td>OVERALL</td>\n",
       "      <td>OVR</td>\n",
       "      <td>NaN</td>\n",
       "      <td>NaN</td>\n",
       "      <td>NaN</td>\n",
       "      <td>NaN</td>\n",
       "    </tr>\n",
       "  </tbody>\n",
       "</table>\n",
       "<p>5 rows × 34 columns</p>\n",
       "</div>"
      ],
      "text/plain": [
       "  YearStart YearEnd LocationAbbr LocationDesc DataSource    Topic  \\\n",
       "0      2015    2015           AK       Alaska      YRBSS  Alcohol   \n",
       "1      2015    2015           AL      Alabama      YRBSS  Alcohol   \n",
       "2      2015    2015           AR     Arkansas      YRBSS  Alcohol   \n",
       "3      2015    2015           AZ      Arizona      YRBSS  Alcohol   \n",
       "4      2015    2015           CA   California      YRBSS  Alcohol   \n",
       "\n",
       "                  Question Response DataValueUnit     DataValueType  \\\n",
       "0  Alcohol use among youth      NaN             %  Crude Prevalence   \n",
       "1  Alcohol use among youth      NaN             %  Crude Prevalence   \n",
       "2  Alcohol use among youth      NaN             %  Crude Prevalence   \n",
       "3  Alcohol use among youth      NaN             %  Crude Prevalence   \n",
       "4  Alcohol use among youth      NaN             %  Crude Prevalence   \n",
       "\n",
       "         ...        LocationID TopicID QuestionID DataValueTypeID  \\\n",
       "0        ...                 2     ALC     ALC1_1         CrdPrev   \n",
       "1        ...                 1     ALC     ALC1_1         CrdPrev   \n",
       "2        ...                 5     ALC     ALC1_1         CrdPrev   \n",
       "3        ...                 4     ALC     ALC1_1         CrdPrev   \n",
       "4        ...                 6     ALC     ALC1_1         CrdPrev   \n",
       "\n",
       "  StratificationCategoryID1 StratificationID1 StratificationCategoryID2  \\\n",
       "0                   OVERALL               OVR                       NaN   \n",
       "1                   OVERALL               OVR                       NaN   \n",
       "2                   OVERALL               OVR                       NaN   \n",
       "3                   OVERALL               OVR                       NaN   \n",
       "4                   OVERALL               OVR                       NaN   \n",
       "\n",
       "  StratificationID2 StratificationCategoryID3 StratificationID3  \n",
       "0               NaN                       NaN               NaN  \n",
       "1               NaN                       NaN               NaN  \n",
       "2               NaN                       NaN               NaN  \n",
       "3               NaN                       NaN               NaN  \n",
       "4               NaN                       NaN               NaN  \n",
       "\n",
       "[5 rows x 34 columns]"
      ]
     },
     "execution_count": 113,
     "metadata": {},
     "output_type": "execute_result"
    }
   ],
   "source": [
    "df_cdi.head()"
   ]
  },
  {
   "cell_type": "markdown",
   "metadata": {
    "slideshow": {
     "slide_type": "slide"
    }
   },
   "source": [
    "#### And also the last 5 rows:"
   ]
  },
  {
   "cell_type": "code",
   "execution_count": 114,
   "metadata": {
    "scrolled": true,
    "slideshow": {
     "slide_type": "slide"
    }
   },
   "outputs": [
    {
     "data": {
      "text/html": [
       "<div>\n",
       "<table border=\"1\" class=\"dataframe\">\n",
       "  <thead>\n",
       "    <tr style=\"text-align: right;\">\n",
       "      <th></th>\n",
       "      <th>YearStart</th>\n",
       "      <th>YearEnd</th>\n",
       "      <th>LocationAbbr</th>\n",
       "      <th>LocationDesc</th>\n",
       "      <th>DataSource</th>\n",
       "      <th>Topic</th>\n",
       "      <th>Question</th>\n",
       "      <th>Response</th>\n",
       "      <th>DataValueUnit</th>\n",
       "      <th>DataValueType</th>\n",
       "      <th>...</th>\n",
       "      <th>LocationID</th>\n",
       "      <th>TopicID</th>\n",
       "      <th>QuestionID</th>\n",
       "      <th>DataValueTypeID</th>\n",
       "      <th>StratificationCategoryID1</th>\n",
       "      <th>StratificationID1</th>\n",
       "      <th>StratificationCategoryID2</th>\n",
       "      <th>StratificationID2</th>\n",
       "      <th>StratificationCategoryID3</th>\n",
       "      <th>StratificationID3</th>\n",
       "    </tr>\n",
       "  </thead>\n",
       "  <tbody>\n",
       "    <tr>\n",
       "      <th>403979</th>\n",
       "      <td>2001</td>\n",
       "      <td>2001</td>\n",
       "      <td>VT</td>\n",
       "      <td>Vermont</td>\n",
       "      <td>NVSS, Mortality</td>\n",
       "      <td>Overarching Conditions</td>\n",
       "      <td>Life expectancy at age 65 years</td>\n",
       "      <td>NaN</td>\n",
       "      <td>Years</td>\n",
       "      <td>Number</td>\n",
       "      <td>...</td>\n",
       "      <td>50</td>\n",
       "      <td>OVC</td>\n",
       "      <td>OVC4_2</td>\n",
       "      <td>Nmbr</td>\n",
       "      <td>OVERALL</td>\n",
       "      <td>OVR</td>\n",
       "      <td>NaN</td>\n",
       "      <td>NaN</td>\n",
       "      <td>NaN</td>\n",
       "      <td>NaN</td>\n",
       "    </tr>\n",
       "    <tr>\n",
       "      <th>403980</th>\n",
       "      <td>2001</td>\n",
       "      <td>2001</td>\n",
       "      <td>WA</td>\n",
       "      <td>Washington</td>\n",
       "      <td>NVSS, Mortality</td>\n",
       "      <td>Overarching Conditions</td>\n",
       "      <td>Life expectancy at age 65 years</td>\n",
       "      <td>NaN</td>\n",
       "      <td>Years</td>\n",
       "      <td>Number</td>\n",
       "      <td>...</td>\n",
       "      <td>53</td>\n",
       "      <td>OVC</td>\n",
       "      <td>OVC4_2</td>\n",
       "      <td>Nmbr</td>\n",
       "      <td>OVERALL</td>\n",
       "      <td>OVR</td>\n",
       "      <td>NaN</td>\n",
       "      <td>NaN</td>\n",
       "      <td>NaN</td>\n",
       "      <td>NaN</td>\n",
       "    </tr>\n",
       "    <tr>\n",
       "      <th>403981</th>\n",
       "      <td>2001</td>\n",
       "      <td>2001</td>\n",
       "      <td>WI</td>\n",
       "      <td>Wisconsin</td>\n",
       "      <td>NVSS, Mortality</td>\n",
       "      <td>Overarching Conditions</td>\n",
       "      <td>Life expectancy at age 65 years</td>\n",
       "      <td>NaN</td>\n",
       "      <td>Years</td>\n",
       "      <td>Number</td>\n",
       "      <td>...</td>\n",
       "      <td>55</td>\n",
       "      <td>OVC</td>\n",
       "      <td>OVC4_2</td>\n",
       "      <td>Nmbr</td>\n",
       "      <td>OVERALL</td>\n",
       "      <td>OVR</td>\n",
       "      <td>NaN</td>\n",
       "      <td>NaN</td>\n",
       "      <td>NaN</td>\n",
       "      <td>NaN</td>\n",
       "    </tr>\n",
       "    <tr>\n",
       "      <th>403982</th>\n",
       "      <td>2001</td>\n",
       "      <td>2001</td>\n",
       "      <td>WV</td>\n",
       "      <td>West Virginia</td>\n",
       "      <td>NVSS, Mortality</td>\n",
       "      <td>Overarching Conditions</td>\n",
       "      <td>Life expectancy at age 65 years</td>\n",
       "      <td>NaN</td>\n",
       "      <td>Years</td>\n",
       "      <td>Number</td>\n",
       "      <td>...</td>\n",
       "      <td>54</td>\n",
       "      <td>OVC</td>\n",
       "      <td>OVC4_2</td>\n",
       "      <td>Nmbr</td>\n",
       "      <td>OVERALL</td>\n",
       "      <td>OVR</td>\n",
       "      <td>NaN</td>\n",
       "      <td>NaN</td>\n",
       "      <td>NaN</td>\n",
       "      <td>NaN</td>\n",
       "    </tr>\n",
       "    <tr>\n",
       "      <th>403983</th>\n",
       "      <td>2001</td>\n",
       "      <td>2001</td>\n",
       "      <td>WY</td>\n",
       "      <td>Wyoming</td>\n",
       "      <td>NVSS, Mortality</td>\n",
       "      <td>Overarching Conditions</td>\n",
       "      <td>Life expectancy at age 65 years</td>\n",
       "      <td>NaN</td>\n",
       "      <td>Years</td>\n",
       "      <td>Number</td>\n",
       "      <td>...</td>\n",
       "      <td>56</td>\n",
       "      <td>OVC</td>\n",
       "      <td>OVC4_2</td>\n",
       "      <td>Nmbr</td>\n",
       "      <td>OVERALL</td>\n",
       "      <td>OVR</td>\n",
       "      <td>NaN</td>\n",
       "      <td>NaN</td>\n",
       "      <td>NaN</td>\n",
       "      <td>NaN</td>\n",
       "    </tr>\n",
       "  </tbody>\n",
       "</table>\n",
       "<p>5 rows × 34 columns</p>\n",
       "</div>"
      ],
      "text/plain": [
       "       YearStart YearEnd LocationAbbr   LocationDesc       DataSource  \\\n",
       "403979      2001    2001           VT        Vermont  NVSS, Mortality   \n",
       "403980      2001    2001           WA     Washington  NVSS, Mortality   \n",
       "403981      2001    2001           WI      Wisconsin  NVSS, Mortality   \n",
       "403982      2001    2001           WV  West Virginia  NVSS, Mortality   \n",
       "403983      2001    2001           WY        Wyoming  NVSS, Mortality   \n",
       "\n",
       "                         Topic                         Question Response  \\\n",
       "403979  Overarching Conditions  Life expectancy at age 65 years      NaN   \n",
       "403980  Overarching Conditions  Life expectancy at age 65 years      NaN   \n",
       "403981  Overarching Conditions  Life expectancy at age 65 years      NaN   \n",
       "403982  Overarching Conditions  Life expectancy at age 65 years      NaN   \n",
       "403983  Overarching Conditions  Life expectancy at age 65 years      NaN   \n",
       "\n",
       "       DataValueUnit DataValueType        ...        LocationID TopicID  \\\n",
       "403979         Years        Number        ...                50     OVC   \n",
       "403980         Years        Number        ...                53     OVC   \n",
       "403981         Years        Number        ...                55     OVC   \n",
       "403982         Years        Number        ...                54     OVC   \n",
       "403983         Years        Number        ...                56     OVC   \n",
       "\n",
       "       QuestionID DataValueTypeID StratificationCategoryID1 StratificationID1  \\\n",
       "403979     OVC4_2            Nmbr                   OVERALL               OVR   \n",
       "403980     OVC4_2            Nmbr                   OVERALL               OVR   \n",
       "403981     OVC4_2            Nmbr                   OVERALL               OVR   \n",
       "403982     OVC4_2            Nmbr                   OVERALL               OVR   \n",
       "403983     OVC4_2            Nmbr                   OVERALL               OVR   \n",
       "\n",
       "       StratificationCategoryID2 StratificationID2 StratificationCategoryID3  \\\n",
       "403979                       NaN               NaN                       NaN   \n",
       "403980                       NaN               NaN                       NaN   \n",
       "403981                       NaN               NaN                       NaN   \n",
       "403982                       NaN               NaN                       NaN   \n",
       "403983                       NaN               NaN                       NaN   \n",
       "\n",
       "       StratificationID3  \n",
       "403979               NaN  \n",
       "403980               NaN  \n",
       "403981               NaN  \n",
       "403982               NaN  \n",
       "403983               NaN  \n",
       "\n",
       "[5 rows x 34 columns]"
      ]
     },
     "execution_count": 114,
     "metadata": {},
     "output_type": "execute_result"
    }
   ],
   "source": [
    "df_cdi.tail()"
   ]
  },
  {
   "cell_type": "markdown",
   "metadata": {
    "slideshow": {
     "slide_type": "slide"
    }
   },
   "source": [
    "#### Take a slice of the dataframe to print first two rows of the dataframe"
   ]
  },
  {
   "cell_type": "code",
   "execution_count": 124,
   "metadata": {
    "scrolled": false,
    "slideshow": {
     "slide_type": "slide"
    }
   },
   "outputs": [
    {
     "data": {
      "text/html": [
       "<div>\n",
       "<table border=\"1\" class=\"dataframe\">\n",
       "  <thead>\n",
       "    <tr style=\"text-align: right;\">\n",
       "      <th></th>\n",
       "      <th>YearStart</th>\n",
       "      <th>YearEnd</th>\n",
       "      <th>LocationAbbr</th>\n",
       "      <th>LocationDesc</th>\n",
       "      <th>DataSource</th>\n",
       "      <th>Topic</th>\n",
       "      <th>Question</th>\n",
       "      <th>Response</th>\n",
       "      <th>DataValueUnit</th>\n",
       "      <th>DataValueType</th>\n",
       "      <th>...</th>\n",
       "      <th>LocationID</th>\n",
       "      <th>TopicID</th>\n",
       "      <th>QuestionID</th>\n",
       "      <th>DataValueTypeID</th>\n",
       "      <th>StratificationCategoryID1</th>\n",
       "      <th>StratificationID1</th>\n",
       "      <th>StratificationCategoryID2</th>\n",
       "      <th>StratificationID2</th>\n",
       "      <th>StratificationCategoryID3</th>\n",
       "      <th>StratificationID3</th>\n",
       "    </tr>\n",
       "  </thead>\n",
       "  <tbody>\n",
       "    <tr>\n",
       "      <th>0</th>\n",
       "      <td>2015</td>\n",
       "      <td>2015</td>\n",
       "      <td>AK</td>\n",
       "      <td>Alaska</td>\n",
       "      <td>YRBSS</td>\n",
       "      <td>Alcohol</td>\n",
       "      <td>Alcohol use among youth</td>\n",
       "      <td>NaN</td>\n",
       "      <td>%</td>\n",
       "      <td>Crude Prevalence</td>\n",
       "      <td>...</td>\n",
       "      <td>2</td>\n",
       "      <td>ALC</td>\n",
       "      <td>ALC1_1</td>\n",
       "      <td>CrdPrev</td>\n",
       "      <td>OVERALL</td>\n",
       "      <td>OVR</td>\n",
       "      <td>NaN</td>\n",
       "      <td>NaN</td>\n",
       "      <td>NaN</td>\n",
       "      <td>NaN</td>\n",
       "    </tr>\n",
       "    <tr>\n",
       "      <th>1</th>\n",
       "      <td>2015</td>\n",
       "      <td>2015</td>\n",
       "      <td>AL</td>\n",
       "      <td>Alabama</td>\n",
       "      <td>YRBSS</td>\n",
       "      <td>Alcohol</td>\n",
       "      <td>Alcohol use among youth</td>\n",
       "      <td>NaN</td>\n",
       "      <td>%</td>\n",
       "      <td>Crude Prevalence</td>\n",
       "      <td>...</td>\n",
       "      <td>1</td>\n",
       "      <td>ALC</td>\n",
       "      <td>ALC1_1</td>\n",
       "      <td>CrdPrev</td>\n",
       "      <td>OVERALL</td>\n",
       "      <td>OVR</td>\n",
       "      <td>NaN</td>\n",
       "      <td>NaN</td>\n",
       "      <td>NaN</td>\n",
       "      <td>NaN</td>\n",
       "    </tr>\n",
       "  </tbody>\n",
       "</table>\n",
       "<p>2 rows × 34 columns</p>\n",
       "</div>"
      ],
      "text/plain": [
       "  YearStart YearEnd LocationAbbr LocationDesc DataSource    Topic  \\\n",
       "0      2015    2015           AK       Alaska      YRBSS  Alcohol   \n",
       "1      2015    2015           AL      Alabama      YRBSS  Alcohol   \n",
       "\n",
       "                  Question Response DataValueUnit     DataValueType  \\\n",
       "0  Alcohol use among youth      NaN             %  Crude Prevalence   \n",
       "1  Alcohol use among youth      NaN             %  Crude Prevalence   \n",
       "\n",
       "         ...        LocationID TopicID QuestionID DataValueTypeID  \\\n",
       "0        ...                 2     ALC     ALC1_1         CrdPrev   \n",
       "1        ...                 1     ALC     ALC1_1         CrdPrev   \n",
       "\n",
       "  StratificationCategoryID1 StratificationID1 StratificationCategoryID2  \\\n",
       "0                   OVERALL               OVR                       NaN   \n",
       "1                   OVERALL               OVR                       NaN   \n",
       "\n",
       "  StratificationID2 StratificationCategoryID3 StratificationID3  \n",
       "0               NaN                       NaN               NaN  \n",
       "1               NaN                       NaN               NaN  \n",
       "\n",
       "[2 rows x 34 columns]"
      ]
     },
     "execution_count": 124,
     "metadata": {},
     "output_type": "execute_result"
    }
   ],
   "source": [
    "df_cdi[0:2]"
   ]
  },
  {
   "cell_type": "markdown",
   "metadata": {
    "slideshow": {
     "slide_type": "slide"
    }
   },
   "source": [
    "#### Let's use a smaller dataset - Arthritis"
   ]
  },
  {
   "cell_type": "markdown",
   "metadata": {},
   "source": [
    "Select a subset of rows from the dataframe where the `Topic` column equals 'Arthritis'"
   ]
  },
  {
   "cell_type": "code",
   "execution_count": 115,
   "metadata": {},
   "outputs": [],
   "source": [
    "df_arthritis = df_cdi.loc[df_cdi.Topic == 'Arthritis']"
   ]
  },
  {
   "cell_type": "markdown",
   "metadata": {},
   "source": [
    "#### Inspect the new dataframe"
   ]
  },
  {
   "cell_type": "code",
   "execution_count": 116,
   "metadata": {},
   "outputs": [
    {
     "data": {
      "text/plain": [
       "(31652, 34)"
      ]
     },
     "execution_count": 116,
     "metadata": {},
     "output_type": "execute_result"
    }
   ],
   "source": [
    "df_arthritis.shape"
   ]
  },
  {
   "cell_type": "markdown",
   "metadata": {},
   "source": [
    "#### Write the new DataFrame to a file for later use"
   ]
  },
  {
   "cell_type": "code",
   "execution_count": 117,
   "metadata": {},
   "outputs": [],
   "source": [
    "df_arthritis.to_csv('Chronic_Disease_Indicators_Arthritis_US.csv')"
   ]
  },
  {
   "cell_type": "markdown",
   "metadata": {},
   "source": [
    "  "
   ]
  },
  {
   "cell_type": "markdown",
   "metadata": {},
   "source": [
    "#### Load the newly generated file from disk"
   ]
  },
  {
   "cell_type": "code",
   "execution_count": 118,
   "metadata": {
    "slideshow": {
     "slide_type": "slide"
    }
   },
   "outputs": [],
   "source": [
    "df_arth = pd.read_csv('Chronic_Disease_Indicators_Arthritis_US.csv')"
   ]
  },
  {
   "cell_type": "markdown",
   "metadata": {},
   "source": [
    "   "
   ]
  },
  {
   "cell_type": "markdown",
   "metadata": {},
   "source": [
    "#### Make a copy of your working dataset to keep your original data intact"
   ]
  },
  {
   "cell_type": "markdown",
   "metadata": {},
   "source": [
    "If we import our dataframe as `df` and do not make a copy, any changes we make to `df` will save to (aka overwrite) our original 'Arthritis' subset. If any mistakes are made during this process and we need a fresh start with the original data, without copying, we'll have to start at the very beginning with the full CDC dataset, again subset for 'Arthritis', and continue our analysis from there. Using copy, we're one step ahead with a pristine Arthritis dataset.\n",
    "\n",
    "If, instead of using `.copy()`, we set  \n",
    "  \n",
    "`df = df_arth`\n",
    "\n",
    "`df` will merely reference `df_arth`. No copy is created here and our original Arthritis subset is vulnerable to changes."
   ]
  },
  {
   "cell_type": "code",
   "execution_count": 119,
   "metadata": {},
   "outputs": [],
   "source": [
    "df = df_arth.copy()"
   ]
  },
  {
   "cell_type": "markdown",
   "metadata": {
    "slideshow": {
     "slide_type": "slide"
    }
   },
   "source": [
    "##### Count the number of rows only"
   ]
  },
  {
   "cell_type": "code",
   "execution_count": 120,
   "metadata": {
    "scrolled": true,
    "slideshow": {
     "slide_type": "slide"
    }
   },
   "outputs": [
    {
     "data": {
      "text/plain": [
       "31652"
      ]
     },
     "execution_count": 120,
     "metadata": {},
     "output_type": "execute_result"
    }
   ],
   "source": [
    "len(df)"
   ]
  },
  {
   "cell_type": "markdown",
   "metadata": {
    "slideshow": {
     "slide_type": "slide"
    }
   },
   "source": [
    "##### Count the number of columns only"
   ]
  },
  {
   "cell_type": "code",
   "execution_count": 121,
   "metadata": {
    "slideshow": {
     "slide_type": "slide"
    }
   },
   "outputs": [
    {
     "data": {
      "text/plain": [
       "35"
      ]
     },
     "execution_count": 121,
     "metadata": {},
     "output_type": "execute_result"
    }
   ],
   "source": [
    "len(df.columns)"
   ]
  },
  {
   "cell_type": "markdown",
   "metadata": {
    "slideshow": {
     "slide_type": "slide"
    }
   },
   "source": [
    "##### List the columns in your dataset"
   ]
  },
  {
   "cell_type": "code",
   "execution_count": 122,
   "metadata": {
    "scrolled": true,
    "slideshow": {
     "slide_type": "slide"
    }
   },
   "outputs": [
    {
     "data": {
      "text/plain": [
       "Index(['Unnamed: 0', 'YearStart', 'YearEnd', 'LocationAbbr', 'LocationDesc',\n",
       "       'DataSource', 'Topic', 'Question', 'Response', 'DataValueUnit',\n",
       "       'DataValueType', 'DataValue', 'DataValueAlt', 'DataValueFootnoteSymbol',\n",
       "       'DatavalueFootnote', 'LowConfidenceLimit', 'HighConfidenceLimit',\n",
       "       'StratificationCategory1', 'Stratification1', 'StratificationCategory2',\n",
       "       'Stratification2', 'StratificationCategory3', 'Stratification3',\n",
       "       'GeoLocation', 'ResponseID', 'LocationID', 'TopicID', 'QuestionID',\n",
       "       'DataValueTypeID', 'StratificationCategoryID1', 'StratificationID1',\n",
       "       'StratificationCategoryID2', 'StratificationID2',\n",
       "       'StratificationCategoryID3', 'StratificationID3'],\n",
       "      dtype='object')"
      ]
     },
     "execution_count": 122,
     "metadata": {},
     "output_type": "execute_result"
    }
   ],
   "source": [
    "df.columns"
   ]
  },
  {
   "cell_type": "markdown",
   "metadata": {
    "slideshow": {
     "slide_type": "slide"
    }
   },
   "source": [
    "##### Find the data types of your columns"
   ]
  },
  {
   "cell_type": "code",
   "execution_count": 123,
   "metadata": {
    "scrolled": true,
    "slideshow": {
     "slide_type": "slide"
    }
   },
   "outputs": [
    {
     "name": "stdout",
     "output_type": "stream",
     "text": [
      "<class 'pandas.core.frame.DataFrame'>\n",
      "RangeIndex: 31652 entries, 0 to 31651\n",
      "Data columns (total 35 columns):\n",
      "Unnamed: 0                   31652 non-null int64\n",
      "YearStart                    31652 non-null int64\n",
      "YearEnd                      31652 non-null int64\n",
      "LocationAbbr                 31652 non-null object\n",
      "LocationDesc                 31652 non-null object\n",
      "DataSource                   31652 non-null object\n",
      "Topic                        31652 non-null object\n",
      "Question                     31652 non-null object\n",
      "Response                     0 non-null float64\n",
      "DataValueUnit                31652 non-null object\n",
      "DataValueType                31652 non-null object\n",
      "DataValue                    22255 non-null float64\n",
      "DataValueAlt                 22255 non-null float64\n",
      "DataValueFootnoteSymbol      9623 non-null object\n",
      "DatavalueFootnote            9623 non-null object\n",
      "LowConfidenceLimit           22253 non-null float64\n",
      "HighConfidenceLimit          22253 non-null float64\n",
      "StratificationCategory1      31652 non-null object\n",
      "Stratification1              31652 non-null object\n",
      "StratificationCategory2      0 non-null float64\n",
      "Stratification2              0 non-null float64\n",
      "StratificationCategory3      0 non-null float64\n",
      "Stratification3              0 non-null float64\n",
      "GeoLocation                  31428 non-null object\n",
      "ResponseID                   0 non-null float64\n",
      "LocationID                   31652 non-null int64\n",
      "TopicID                      31652 non-null object\n",
      "QuestionID                   31652 non-null object\n",
      "DataValueTypeID              31652 non-null object\n",
      "StratificationCategoryID1    31652 non-null object\n",
      "StratificationID1            31652 non-null object\n",
      "StratificationCategoryID2    0 non-null float64\n",
      "StratificationID2            0 non-null float64\n",
      "StratificationCategoryID3    0 non-null float64\n",
      "StratificationID3            0 non-null float64\n",
      "dtypes: float64(14), int64(4), object(17)\n",
      "memory usage: 8.5+ MB\n"
     ]
    }
   ],
   "source": [
    "df.info()"
   ]
  },
  {
   "cell_type": "markdown",
   "metadata": {
    "slideshow": {
     "slide_type": "slide"
    }
   },
   "source": [
    "Now that we have a general idea of the contents and shape of the data, let's move on to preparing the data for analysis."
   ]
  },
  {
   "cell_type": "markdown",
   "metadata": {
    "slideshow": {
     "slide_type": "slide"
    }
   },
   "source": [
    "## Cleaning and Preparing Your Data"
   ]
  },
  {
   "cell_type": "markdown",
   "metadata": {
    "slideshow": {
     "slide_type": "slide"
    }
   },
   "source": [
    "### Double check to make sure you're working off a copy of your original dataset so you don't overwrite your original data"
   ]
  },
  {
   "cell_type": "markdown",
   "metadata": {
    "slideshow": {
     "slide_type": "slide"
    }
   },
   "source": [
    "### Handling Missing Values"
   ]
  },
  {
   "cell_type": "markdown",
   "metadata": {
    "slideshow": {
     "slide_type": "slide"
    }
   },
   "source": [
    "Using the `.count()` function will display the number of values in each column and highlight any columns with missing values. Often these missing values show up in your dataframe as \"NaN\" - not a number. "
   ]
  },
  {
   "cell_type": "code",
   "execution_count": 159,
   "metadata": {},
   "outputs": [
    {
     "data": {
      "text/plain": [
       "(31652, 35)"
      ]
     },
     "execution_count": 159,
     "metadata": {},
     "output_type": "execute_result"
    }
   ],
   "source": [
    "df.shape"
   ]
  },
  {
   "cell_type": "code",
   "execution_count": 125,
   "metadata": {
    "scrolled": true
   },
   "outputs": [
    {
     "data": {
      "text/plain": [
       "Unnamed: 0                   31652\n",
       "YearStart                    31652\n",
       "YearEnd                      31652\n",
       "LocationAbbr                 31652\n",
       "LocationDesc                 31652\n",
       "DataSource                   31652\n",
       "Topic                        31652\n",
       "Question                     31652\n",
       "Response                         0\n",
       "DataValueUnit                31652\n",
       "DataValueType                31652\n",
       "DataValue                    22255\n",
       "DataValueAlt                 22255\n",
       "DataValueFootnoteSymbol       9623\n",
       "DatavalueFootnote             9623\n",
       "LowConfidenceLimit           22253\n",
       "HighConfidenceLimit          22253\n",
       "StratificationCategory1      31652\n",
       "Stratification1              31652\n",
       "StratificationCategory2          0\n",
       "Stratification2                  0\n",
       "StratificationCategory3          0\n",
       "Stratification3                  0\n",
       "GeoLocation                  31428\n",
       "ResponseID                       0\n",
       "LocationID                   31652\n",
       "TopicID                      31652\n",
       "QuestionID                   31652\n",
       "DataValueTypeID              31652\n",
       "StratificationCategoryID1    31652\n",
       "StratificationID1            31652\n",
       "StratificationCategoryID2        0\n",
       "StratificationID2                0\n",
       "StratificationCategoryID3        0\n",
       "StratificationID3                0\n",
       "dtype: int64"
      ]
     },
     "execution_count": 125,
     "metadata": {},
     "output_type": "execute_result"
    }
   ],
   "source": [
    "df.count()"
   ]
  },
  {
   "cell_type": "markdown",
   "metadata": {},
   "source": [
    "As you can see above, some of the columns are completely empty or have empty cells. Other columns are duplicative. We'll use a subset of eleven columns for today's work:\n",
    "* **YearStart** - Year the survey was started\n",
    "* **LocationAbbr** - Abbreviation for state/territory/region name\n",
    "* **LocationDesc** - Full state/territory/region name\n",
    "* **Question**\n",
    "* **DataValueUnit** - All fields use percent (%)\n",
    "* **DataValueType** - Values: Age-adjusted prevalence, Crude prevalence\n",
    "* **DataValue** - Integer value\n",
    "* **DataValueFootnote** - \n",
    "* **StratificationCategory1** - Values: Overall, Gender, Race/Ethnicity\n",
    "* **Stratification1** - Values: Overall; Female; Male; Black, non-Hispanic; Hispanic; Multiracial, non-Hispanic; White, non-Hispanic; Other, non-Hispanic; \n",
    "* **GeoLocation** - Latitude, Longitude"
   ]
  },
  {
   "cell_type": "markdown",
   "metadata": {},
   "source": [
    "Create a dataframe from the original that only contains the columns we want to work with **(copy to Slack and Chat)**. "
   ]
  },
  {
   "cell_type": "code",
   "execution_count": 126,
   "metadata": {},
   "outputs": [],
   "source": [
    "df_sub = df[['YearStart', 'LocationAbbr', 'LocationDesc', 'Question', 'DataValueUnit', 'DataValueType', 'DataValue', 'DatavalueFootnote', 'StratificationCategory1', 'Stratification1', 'GeoLocation']]"
   ]
  },
  {
   "cell_type": "code",
   "execution_count": 127,
   "metadata": {
    "scrolled": true
   },
   "outputs": [
    {
     "data": {
      "text/html": [
       "<div>\n",
       "<table border=\"1\" class=\"dataframe\">\n",
       "  <thead>\n",
       "    <tr style=\"text-align: right;\">\n",
       "      <th></th>\n",
       "      <th>YearStart</th>\n",
       "      <th>LocationAbbr</th>\n",
       "      <th>LocationDesc</th>\n",
       "      <th>Question</th>\n",
       "      <th>DataValueUnit</th>\n",
       "      <th>DataValueType</th>\n",
       "      <th>DataValue</th>\n",
       "      <th>DatavalueFootnote</th>\n",
       "      <th>StratificationCategory1</th>\n",
       "      <th>Stratification1</th>\n",
       "      <th>GeoLocation</th>\n",
       "    </tr>\n",
       "  </thead>\n",
       "  <tbody>\n",
       "    <tr>\n",
       "      <th>0</th>\n",
       "      <td>2015</td>\n",
       "      <td>AZ</td>\n",
       "      <td>Arizona</td>\n",
       "      <td>Arthritis among adults aged &gt;= 18 years</td>\n",
       "      <td>%</td>\n",
       "      <td>Age-adjusted Prevalence</td>\n",
       "      <td>18.4</td>\n",
       "      <td>NaN</td>\n",
       "      <td>Gender</td>\n",
       "      <td>Male</td>\n",
       "      <td>(34.865970280000454, -111.76381127699972)</td>\n",
       "    </tr>\n",
       "    <tr>\n",
       "      <th>1</th>\n",
       "      <td>2015</td>\n",
       "      <td>FL</td>\n",
       "      <td>Florida</td>\n",
       "      <td>Arthritis among adults aged &gt;= 18 years</td>\n",
       "      <td>%</td>\n",
       "      <td>Age-adjusted Prevalence</td>\n",
       "      <td>18.4</td>\n",
       "      <td>NaN</td>\n",
       "      <td>Gender</td>\n",
       "      <td>Male</td>\n",
       "      <td>(28.932040377000476, -81.92896053899966)</td>\n",
       "    </tr>\n",
       "    <tr>\n",
       "      <th>2</th>\n",
       "      <td>2015</td>\n",
       "      <td>HI</td>\n",
       "      <td>Hawaii</td>\n",
       "      <td>Arthritis among adults aged &gt;= 18 years</td>\n",
       "      <td>%</td>\n",
       "      <td>Age-adjusted Prevalence</td>\n",
       "      <td>17.0</td>\n",
       "      <td>NaN</td>\n",
       "      <td>Gender</td>\n",
       "      <td>Male</td>\n",
       "      <td>(21.304850435000446, -157.85774940299973)</td>\n",
       "    </tr>\n",
       "    <tr>\n",
       "      <th>3</th>\n",
       "      <td>2015</td>\n",
       "      <td>MN</td>\n",
       "      <td>Minnesota</td>\n",
       "      <td>Arthritis among adults aged &gt;= 18 years</td>\n",
       "      <td>%</td>\n",
       "      <td>Age-adjusted Prevalence</td>\n",
       "      <td>17.3</td>\n",
       "      <td>NaN</td>\n",
       "      <td>Gender</td>\n",
       "      <td>Male</td>\n",
       "      <td>(46.35564873600049, -94.79420050299967)</td>\n",
       "    </tr>\n",
       "    <tr>\n",
       "      <th>4</th>\n",
       "      <td>2015</td>\n",
       "      <td>MT</td>\n",
       "      <td>Montana</td>\n",
       "      <td>Arthritis among adults aged &gt;= 18 years</td>\n",
       "      <td>%</td>\n",
       "      <td>Age-adjusted Prevalence</td>\n",
       "      <td>22.6</td>\n",
       "      <td>NaN</td>\n",
       "      <td>Gender</td>\n",
       "      <td>Male</td>\n",
       "      <td>(47.06652897200047, -109.42442064499971)</td>\n",
       "    </tr>\n",
       "  </tbody>\n",
       "</table>\n",
       "</div>"
      ],
      "text/plain": [
       "   YearStart LocationAbbr LocationDesc  \\\n",
       "0       2015           AZ      Arizona   \n",
       "1       2015           FL      Florida   \n",
       "2       2015           HI       Hawaii   \n",
       "3       2015           MN    Minnesota   \n",
       "4       2015           MT      Montana   \n",
       "\n",
       "                                  Question DataValueUnit  \\\n",
       "0  Arthritis among adults aged >= 18 years             %   \n",
       "1  Arthritis among adults aged >= 18 years             %   \n",
       "2  Arthritis among adults aged >= 18 years             %   \n",
       "3  Arthritis among adults aged >= 18 years             %   \n",
       "4  Arthritis among adults aged >= 18 years             %   \n",
       "\n",
       "             DataValueType  DataValue DatavalueFootnote  \\\n",
       "0  Age-adjusted Prevalence       18.4               NaN   \n",
       "1  Age-adjusted Prevalence       18.4               NaN   \n",
       "2  Age-adjusted Prevalence       17.0               NaN   \n",
       "3  Age-adjusted Prevalence       17.3               NaN   \n",
       "4  Age-adjusted Prevalence       22.6               NaN   \n",
       "\n",
       "  StratificationCategory1 Stratification1  \\\n",
       "0                  Gender            Male   \n",
       "1                  Gender            Male   \n",
       "2                  Gender            Male   \n",
       "3                  Gender            Male   \n",
       "4                  Gender            Male   \n",
       "\n",
       "                                 GeoLocation  \n",
       "0  (34.865970280000454, -111.76381127699972)  \n",
       "1   (28.932040377000476, -81.92896053899966)  \n",
       "2  (21.304850435000446, -157.85774940299973)  \n",
       "3    (46.35564873600049, -94.79420050299967)  \n",
       "4   (47.06652897200047, -109.42442064499971)  "
      ]
     },
     "execution_count": 127,
     "metadata": {},
     "output_type": "execute_result"
    }
   ],
   "source": [
    "df_sub.head()"
   ]
  },
  {
   "cell_type": "markdown",
   "metadata": {},
   "source": [
    "We still have missing values. We could replace the NaNs with empty strings for easier text processing, but let's keep them for now. "
   ]
  },
  {
   "cell_type": "code",
   "execution_count": 128,
   "metadata": {},
   "outputs": [],
   "source": [
    "#df_sub = df_sub.fillna('')"
   ]
  },
  {
   "cell_type": "code",
   "execution_count": 129,
   "metadata": {},
   "outputs": [],
   "source": [
    "#df_sub.head()"
   ]
  },
  {
   "cell_type": "markdown",
   "metadata": {},
   "source": [
    "Finally, let's take a look at the data types in our dataset"
   ]
  },
  {
   "cell_type": "code",
   "execution_count": 130,
   "metadata": {},
   "outputs": [
    {
     "data": {
      "text/plain": [
       "YearStart                    int64\n",
       "LocationAbbr                object\n",
       "LocationDesc                object\n",
       "Question                    object\n",
       "DataValueUnit               object\n",
       "DataValueType               object\n",
       "DataValue                  float64\n",
       "DatavalueFootnote           object\n",
       "StratificationCategory1     object\n",
       "Stratification1             object\n",
       "GeoLocation                 object\n",
       "dtype: object"
      ]
     },
     "execution_count": 130,
     "metadata": {},
     "output_type": "execute_result"
    }
   ],
   "source": [
    "df_sub.dtypes"
   ]
  },
  {
   "cell_type": "markdown",
   "metadata": {},
   "source": [
    "### Exploratory Data Analysis"
   ]
  },
  {
   "cell_type": "code",
   "execution_count": 160,
   "metadata": {},
   "outputs": [
    {
     "data": {
      "text/html": [
       "<div>\n",
       "<table border=\"1\" class=\"dataframe\">\n",
       "  <thead>\n",
       "    <tr style=\"text-align: right;\">\n",
       "      <th></th>\n",
       "      <th>YearStart</th>\n",
       "      <th>DataValue</th>\n",
       "    </tr>\n",
       "  </thead>\n",
       "  <tbody>\n",
       "    <tr>\n",
       "      <th>count</th>\n",
       "      <td>31652.000000</td>\n",
       "      <td>22255.000000</td>\n",
       "    </tr>\n",
       "    <tr>\n",
       "      <th>mean</th>\n",
       "      <td>2012.989258</td>\n",
       "      <td>33.078553</td>\n",
       "    </tr>\n",
       "    <tr>\n",
       "      <th>std</th>\n",
       "      <td>1.449195</td>\n",
       "      <td>13.673333</td>\n",
       "    </tr>\n",
       "    <tr>\n",
       "      <th>min</th>\n",
       "      <td>2011.000000</td>\n",
       "      <td>0.000000</td>\n",
       "    </tr>\n",
       "    <tr>\n",
       "      <th>25%</th>\n",
       "      <td>2012.000000</td>\n",
       "      <td>24.400000</td>\n",
       "    </tr>\n",
       "    <tr>\n",
       "      <th>50%</th>\n",
       "      <td>2013.000000</td>\n",
       "      <td>31.800000</td>\n",
       "    </tr>\n",
       "    <tr>\n",
       "      <th>75%</th>\n",
       "      <td>2014.000000</td>\n",
       "      <td>41.100000</td>\n",
       "    </tr>\n",
       "    <tr>\n",
       "      <th>max</th>\n",
       "      <td>2015.000000</td>\n",
       "      <td>91.000000</td>\n",
       "    </tr>\n",
       "  </tbody>\n",
       "</table>\n",
       "</div>"
      ],
      "text/plain": [
       "          YearStart     DataValue\n",
       "count  31652.000000  22255.000000\n",
       "mean    2012.989258     33.078553\n",
       "std        1.449195     13.673333\n",
       "min     2011.000000      0.000000\n",
       "25%     2012.000000     24.400000\n",
       "50%     2013.000000     31.800000\n",
       "75%     2014.000000     41.100000\n",
       "max     2015.000000     91.000000"
      ]
     },
     "execution_count": 160,
     "metadata": {},
     "output_type": "execute_result"
    }
   ],
   "source": [
    "df_sub.describe()"
   ]
  },
  {
   "cell_type": "code",
   "execution_count": 163,
   "metadata": {
    "scrolled": true
   },
   "outputs": [
    {
     "data": {
      "text/html": [
       "<div>\n",
       "<table border=\"1\" class=\"dataframe\">\n",
       "  <thead>\n",
       "    <tr style=\"text-align: right;\">\n",
       "      <th></th>\n",
       "      <th>LocationDesc</th>\n",
       "      <th>StratificationCategory1</th>\n",
       "    </tr>\n",
       "  </thead>\n",
       "  <tbody>\n",
       "    <tr>\n",
       "      <th>count</th>\n",
       "      <td>31652</td>\n",
       "      <td>31652</td>\n",
       "    </tr>\n",
       "    <tr>\n",
       "      <th>unique</th>\n",
       "      <td>55</td>\n",
       "      <td>3</td>\n",
       "    </tr>\n",
       "    <tr>\n",
       "      <th>top</th>\n",
       "      <td>Vermont</td>\n",
       "      <td>Race/Ethnicity</td>\n",
       "    </tr>\n",
       "    <tr>\n",
       "      <th>freq</th>\n",
       "      <td>582</td>\n",
       "      <td>19445</td>\n",
       "    </tr>\n",
       "  </tbody>\n",
       "</table>\n",
       "</div>"
      ],
      "text/plain": [
       "       LocationDesc StratificationCategory1\n",
       "count         31652                   31652\n",
       "unique           55                       3\n",
       "top         Vermont          Race/Ethnicity\n",
       "freq            582                   19445"
      ]
     },
     "execution_count": 163,
     "metadata": {},
     "output_type": "execute_result"
    }
   ],
   "source": [
    "df_sub[['LocationDesc', 'StratificationCategory1']].describe()"
   ]
  },
  {
   "cell_type": "markdown",
   "metadata": {},
   "source": [
    "#### What questions do we want to answer? What piques our curiosity?\n",
    "1. What is the overall incidence of arthritis in the U.S. per year?\n",
    "2. How does this vary by race/ethnicity and gender?\n",
    "3. Which states had the highest and lowest incidence of arthritis in 2015?\n"
   ]
  },
  {
   "cell_type": "markdown",
   "metadata": {},
   "source": [
    "##### 1. What is the overall incidence of arthritis in the U.S. per year?"
   ]
  },
  {
   "cell_type": "markdown",
   "metadata": {},
   "source": [
    "We can use `pd.unique` to list the unique values in the question column."
   ]
  },
  {
   "cell_type": "code",
   "execution_count": 131,
   "metadata": {},
   "outputs": [
    {
     "data": {
      "text/plain": [
       "array(['Arthritis among adults aged >= 18 years',\n",
       "       'Arthritis among adults aged >= 18 years who are obese',\n",
       "       'Arthritis among adults aged >= 18 years who have diabetes',\n",
       "       'Arthritis among adults aged >= 18 years who have heart disease',\n",
       "       'Activity limitation due to arthritis among adults aged >= 18 years',\n",
       "       'Physical inactivity among adults aged >= 18 years with arthritis',\n",
       "       'Fair or poor health among adults aged >= 18 years with arthritis',\n",
       "       'Adults aged >= 18 years with arthritis who have taken a class to learn how to manage arthritis symptoms'], dtype=object)"
      ]
     },
     "execution_count": 131,
     "metadata": {},
     "output_type": "execute_result"
    }
   ],
   "source": [
    "pd.unique(df_sub['Question'])"
   ]
  },
  {
   "cell_type": "markdown",
   "metadata": {},
   "source": [
    "We can also use `.value_counts()` to count how many times each question appears in our data set. `.value_counts()` is a great tool for exploring categorical data."
   ]
  },
  {
   "cell_type": "code",
   "execution_count": 132,
   "metadata": {
    "scrolled": true
   },
   "outputs": [
    {
     "data": {
      "text/plain": [
       "Arthritis among adults aged >= 18 years who are obese                                                      4412\n",
       "Fair or poor health among adults aged >= 18 years with arthritis                                           4404\n",
       "Physical inactivity among adults aged >= 18 years with arthritis                                           4404\n",
       "Arthritis among adults aged >= 18 years who have heart disease                                             4404\n",
       "Arthritis among adults aged >= 18 years who have diabetes                                                  4404\n",
       "Arthritis among adults aged >= 18 years                                                                    4404\n",
       "Activity limitation due to arthritis among adults aged >= 18 years                                         2610\n",
       "Adults aged >= 18 years with arthritis who have taken a class to learn how to manage arthritis symptoms    2610\n",
       "Name: Question, dtype: int64"
      ]
     },
     "execution_count": 132,
     "metadata": {},
     "output_type": "execute_result"
    }
   ],
   "source": [
    "df_sub['Question'].value_counts()"
   ]
  },
  {
   "cell_type": "markdown",
   "metadata": {},
   "source": [
    "We'll create a subset of our data to answer this question. "
   ]
  },
  {
   "cell_type": "code",
   "execution_count": 173,
   "metadata": {},
   "outputs": [],
   "source": [
    "annual_incidence = df_sub[(df_sub.Question == 'Arthritis among adults aged >= 18 years') & \n",
    "                          (df_sub.LocationAbbr == 'US') & (df_sub.StratificationCategory1 == \"Overall\") & \n",
    "                          (df_sub.DataValueType == 'Crude Prevalence')]"
   ]
  },
  {
   "cell_type": "code",
   "execution_count": 134,
   "metadata": {},
   "outputs": [
    {
     "data": {
      "text/html": [
       "<div>\n",
       "<table border=\"1\" class=\"dataframe\">\n",
       "  <thead>\n",
       "    <tr style=\"text-align: right;\">\n",
       "      <th></th>\n",
       "      <th>YearStart</th>\n",
       "      <th>LocationAbbr</th>\n",
       "      <th>LocationDesc</th>\n",
       "      <th>Question</th>\n",
       "      <th>DataValueUnit</th>\n",
       "      <th>DataValueType</th>\n",
       "      <th>DataValue</th>\n",
       "      <th>DatavalueFootnote</th>\n",
       "      <th>StratificationCategory1</th>\n",
       "      <th>Stratification1</th>\n",
       "      <th>GeoLocation</th>\n",
       "    </tr>\n",
       "  </thead>\n",
       "  <tbody>\n",
       "    <tr>\n",
       "      <th>806</th>\n",
       "      <td>2015</td>\n",
       "      <td>US</td>\n",
       "      <td>United States</td>\n",
       "      <td>Arthritis among adults aged &gt;= 18 years</td>\n",
       "      <td>%</td>\n",
       "      <td>Crude Prevalence</td>\n",
       "      <td>25.3</td>\n",
       "      <td>50 States + DC: US Median</td>\n",
       "      <td>Overall</td>\n",
       "      <td>Overall</td>\n",
       "      <td>NaN</td>\n",
       "    </tr>\n",
       "    <tr>\n",
       "      <th>7765</th>\n",
       "      <td>2012</td>\n",
       "      <td>US</td>\n",
       "      <td>United States</td>\n",
       "      <td>Arthritis among adults aged &gt;= 18 years</td>\n",
       "      <td>%</td>\n",
       "      <td>Crude Prevalence</td>\n",
       "      <td>25.7</td>\n",
       "      <td>50 States + DC: US Median</td>\n",
       "      <td>Overall</td>\n",
       "      <td>Overall</td>\n",
       "      <td>NaN</td>\n",
       "    </tr>\n",
       "    <tr>\n",
       "      <th>12996</th>\n",
       "      <td>2011</td>\n",
       "      <td>US</td>\n",
       "      <td>United States</td>\n",
       "      <td>Arthritis among adults aged &gt;= 18 years</td>\n",
       "      <td>%</td>\n",
       "      <td>Crude Prevalence</td>\n",
       "      <td>24.4</td>\n",
       "      <td>50 States + DC: US Median</td>\n",
       "      <td>Overall</td>\n",
       "      <td>Overall</td>\n",
       "      <td>NaN</td>\n",
       "    </tr>\n",
       "    <tr>\n",
       "      <th>19953</th>\n",
       "      <td>2014</td>\n",
       "      <td>US</td>\n",
       "      <td>United States</td>\n",
       "      <td>Arthritis among adults aged &gt;= 18 years</td>\n",
       "      <td>%</td>\n",
       "      <td>Crude Prevalence</td>\n",
       "      <td>26.0</td>\n",
       "      <td>50 States + DC: US Median</td>\n",
       "      <td>Overall</td>\n",
       "      <td>Overall</td>\n",
       "      <td>NaN</td>\n",
       "    </tr>\n",
       "    <tr>\n",
       "      <th>25173</th>\n",
       "      <td>2013</td>\n",
       "      <td>US</td>\n",
       "      <td>United States</td>\n",
       "      <td>Arthritis among adults aged &gt;= 18 years</td>\n",
       "      <td>%</td>\n",
       "      <td>Crude Prevalence</td>\n",
       "      <td>25.3</td>\n",
       "      <td>50 States + DC: US Median</td>\n",
       "      <td>Overall</td>\n",
       "      <td>Overall</td>\n",
       "      <td>NaN</td>\n",
       "    </tr>\n",
       "  </tbody>\n",
       "</table>\n",
       "</div>"
      ],
      "text/plain": [
       "       YearStart LocationAbbr   LocationDesc  \\\n",
       "806         2015           US  United States   \n",
       "7765        2012           US  United States   \n",
       "12996       2011           US  United States   \n",
       "19953       2014           US  United States   \n",
       "25173       2013           US  United States   \n",
       "\n",
       "                                      Question DataValueUnit  \\\n",
       "806    Arthritis among adults aged >= 18 years             %   \n",
       "7765   Arthritis among adults aged >= 18 years             %   \n",
       "12996  Arthritis among adults aged >= 18 years             %   \n",
       "19953  Arthritis among adults aged >= 18 years             %   \n",
       "25173  Arthritis among adults aged >= 18 years             %   \n",
       "\n",
       "          DataValueType  DataValue          DatavalueFootnote  \\\n",
       "806    Crude Prevalence       25.3  50 States + DC: US Median   \n",
       "7765   Crude Prevalence       25.7  50 States + DC: US Median   \n",
       "12996  Crude Prevalence       24.4  50 States + DC: US Median   \n",
       "19953  Crude Prevalence       26.0  50 States + DC: US Median   \n",
       "25173  Crude Prevalence       25.3  50 States + DC: US Median   \n",
       "\n",
       "      StratificationCategory1 Stratification1 GeoLocation  \n",
       "806                   Overall         Overall         NaN  \n",
       "7765                  Overall         Overall         NaN  \n",
       "12996                 Overall         Overall         NaN  \n",
       "19953                 Overall         Overall         NaN  \n",
       "25173                 Overall         Overall         NaN  "
      ]
     },
     "execution_count": 134,
     "metadata": {},
     "output_type": "execute_result"
    }
   ],
   "source": [
    "annual_incidence"
   ]
  },
  {
   "cell_type": "markdown",
   "metadata": {},
   "source": [
    "##### 2. How does this vary by race/ethnicity and gender?"
   ]
  },
  {
   "cell_type": "code",
   "execution_count": 135,
   "metadata": {},
   "outputs": [
    {
     "data": {
      "text/plain": [
       "array(['Gender', 'Race/Ethnicity', 'Overall'], dtype=object)"
      ]
     },
     "execution_count": 135,
     "metadata": {},
     "output_type": "execute_result"
    }
   ],
   "source": [
    "pd.unique(df_sub['StratificationCategory1'])"
   ]
  },
  {
   "cell_type": "code",
   "execution_count": 136,
   "metadata": {},
   "outputs": [],
   "source": [
    "incidence_race = df_sub[(df_sub.Question == 'Arthritis among adults aged >= 18 years') & \n",
    "                          (df_sub.LocationAbbr == 'US') & (df_sub.StratificationCategory1 == \"Race/Ethnicity\")  & \n",
    "                          (df_sub.DataValueType == 'Age-adjusted Prevalence')]"
   ]
  },
  {
   "cell_type": "code",
   "execution_count": 137,
   "metadata": {
    "scrolled": true
   },
   "outputs": [
    {
     "data": {
      "text/html": [
       "<div>\n",
       "<table border=\"1\" class=\"dataframe\">\n",
       "  <thead>\n",
       "    <tr style=\"text-align: right;\">\n",
       "      <th></th>\n",
       "      <th>YearStart</th>\n",
       "      <th>LocationAbbr</th>\n",
       "      <th>LocationDesc</th>\n",
       "      <th>Question</th>\n",
       "      <th>DataValueUnit</th>\n",
       "      <th>DataValueType</th>\n",
       "      <th>DataValue</th>\n",
       "      <th>DatavalueFootnote</th>\n",
       "      <th>StratificationCategory1</th>\n",
       "      <th>Stratification1</th>\n",
       "      <th>GeoLocation</th>\n",
       "    </tr>\n",
       "  </thead>\n",
       "  <tbody>\n",
       "  </tbody>\n",
       "</table>\n",
       "</div>"
      ],
      "text/plain": [
       "Empty DataFrame\n",
       "Columns: [YearStart, LocationAbbr, LocationDesc, Question, DataValueUnit, DataValueType, DataValue, DatavalueFootnote, StratificationCategory1, Stratification1, GeoLocation]\n",
       "Index: []"
      ]
     },
     "execution_count": 137,
     "metadata": {},
     "output_type": "execute_result"
    }
   ],
   "source": [
    "incidence_race"
   ]
  },
  {
   "cell_type": "markdown",
   "metadata": {},
   "source": [
    "    \n",
    "    \n",
    "    "
   ]
  },
  {
   "cell_type": "markdown",
   "metadata": {},
   "source": [
    "**Why is our output empty?**  \n",
    "There is no US-wide Race/Ethnicity data for the category Arthritis among adults aged >= 18 years, only for Arthritis among adults aged >= 18 who are obese and only for 2011."
   ]
  },
  {
   "cell_type": "code",
   "execution_count": 138,
   "metadata": {},
   "outputs": [],
   "source": [
    "incidence_race2 = df_sub[(df_sub.LocationAbbr == 'US') & (df_sub.StratificationCategory1 == \"Race/Ethnicity\") &\n",
    "                         (df_sub.DataValueType == 'Age-adjusted Prevalence')]"
   ]
  },
  {
   "cell_type": "code",
   "execution_count": 139,
   "metadata": {
    "scrolled": true
   },
   "outputs": [
    {
     "data": {
      "text/html": [
       "<div>\n",
       "<table border=\"1\" class=\"dataframe\">\n",
       "  <thead>\n",
       "    <tr style=\"text-align: right;\">\n",
       "      <th></th>\n",
       "      <th>YearStart</th>\n",
       "      <th>LocationAbbr</th>\n",
       "      <th>LocationDesc</th>\n",
       "      <th>Question</th>\n",
       "      <th>DataValueUnit</th>\n",
       "      <th>DataValueType</th>\n",
       "      <th>DataValue</th>\n",
       "      <th>DatavalueFootnote</th>\n",
       "      <th>StratificationCategory1</th>\n",
       "      <th>Stratification1</th>\n",
       "      <th>GeoLocation</th>\n",
       "    </tr>\n",
       "  </thead>\n",
       "  <tbody>\n",
       "    <tr>\n",
       "      <th>13424</th>\n",
       "      <td>2011</td>\n",
       "      <td>US</td>\n",
       "      <td>United States</td>\n",
       "      <td>Arthritis among adults aged &gt;= 18 years who ar...</td>\n",
       "      <td>%</td>\n",
       "      <td>Age-adjusted Prevalence</td>\n",
       "      <td>30.8</td>\n",
       "      <td>50 States + DC: US Median</td>\n",
       "      <td>Race/Ethnicity</td>\n",
       "      <td>Black, non-Hispanic</td>\n",
       "      <td>NaN</td>\n",
       "    </tr>\n",
       "    <tr>\n",
       "      <th>13427</th>\n",
       "      <td>2011</td>\n",
       "      <td>US</td>\n",
       "      <td>United States</td>\n",
       "      <td>Arthritis among adults aged &gt;= 18 years who ar...</td>\n",
       "      <td>%</td>\n",
       "      <td>Age-adjusted Prevalence</td>\n",
       "      <td>23.6</td>\n",
       "      <td>50 States + DC: US Median</td>\n",
       "      <td>Race/Ethnicity</td>\n",
       "      <td>Hispanic</td>\n",
       "      <td>NaN</td>\n",
       "    </tr>\n",
       "    <tr>\n",
       "      <th>13430</th>\n",
       "      <td>2011</td>\n",
       "      <td>US</td>\n",
       "      <td>United States</td>\n",
       "      <td>Arthritis among adults aged &gt;= 18 years who ar...</td>\n",
       "      <td>%</td>\n",
       "      <td>Age-adjusted Prevalence</td>\n",
       "      <td>37.6</td>\n",
       "      <td>50 States + DC: US Median</td>\n",
       "      <td>Race/Ethnicity</td>\n",
       "      <td>Multiracial, non-Hispanic</td>\n",
       "      <td>NaN</td>\n",
       "    </tr>\n",
       "    <tr>\n",
       "      <th>13431</th>\n",
       "      <td>2011</td>\n",
       "      <td>US</td>\n",
       "      <td>United States</td>\n",
       "      <td>Arthritis among adults aged &gt;= 18 years who ar...</td>\n",
       "      <td>%</td>\n",
       "      <td>Age-adjusted Prevalence</td>\n",
       "      <td>31.0</td>\n",
       "      <td>50 States + DC: US Median</td>\n",
       "      <td>Race/Ethnicity</td>\n",
       "      <td>Other, non-Hispanic</td>\n",
       "      <td>NaN</td>\n",
       "    </tr>\n",
       "    <tr>\n",
       "      <th>13434</th>\n",
       "      <td>2011</td>\n",
       "      <td>US</td>\n",
       "      <td>United States</td>\n",
       "      <td>Arthritis among adults aged &gt;= 18 years who ar...</td>\n",
       "      <td>%</td>\n",
       "      <td>Age-adjusted Prevalence</td>\n",
       "      <td>32.0</td>\n",
       "      <td>50 States + DC: US Median</td>\n",
       "      <td>Race/Ethnicity</td>\n",
       "      <td>White, non-Hispanic</td>\n",
       "      <td>NaN</td>\n",
       "    </tr>\n",
       "  </tbody>\n",
       "</table>\n",
       "</div>"
      ],
      "text/plain": [
       "       YearStart LocationAbbr   LocationDesc  \\\n",
       "13424       2011           US  United States   \n",
       "13427       2011           US  United States   \n",
       "13430       2011           US  United States   \n",
       "13431       2011           US  United States   \n",
       "13434       2011           US  United States   \n",
       "\n",
       "                                                Question DataValueUnit  \\\n",
       "13424  Arthritis among adults aged >= 18 years who ar...             %   \n",
       "13427  Arthritis among adults aged >= 18 years who ar...             %   \n",
       "13430  Arthritis among adults aged >= 18 years who ar...             %   \n",
       "13431  Arthritis among adults aged >= 18 years who ar...             %   \n",
       "13434  Arthritis among adults aged >= 18 years who ar...             %   \n",
       "\n",
       "                 DataValueType  DataValue          DatavalueFootnote  \\\n",
       "13424  Age-adjusted Prevalence       30.8  50 States + DC: US Median   \n",
       "13427  Age-adjusted Prevalence       23.6  50 States + DC: US Median   \n",
       "13430  Age-adjusted Prevalence       37.6  50 States + DC: US Median   \n",
       "13431  Age-adjusted Prevalence       31.0  50 States + DC: US Median   \n",
       "13434  Age-adjusted Prevalence       32.0  50 States + DC: US Median   \n",
       "\n",
       "      StratificationCategory1            Stratification1 GeoLocation  \n",
       "13424          Race/Ethnicity        Black, non-Hispanic         NaN  \n",
       "13427          Race/Ethnicity                   Hispanic         NaN  \n",
       "13430          Race/Ethnicity  Multiracial, non-Hispanic         NaN  \n",
       "13431          Race/Ethnicity        Other, non-Hispanic         NaN  \n",
       "13434          Race/Ethnicity        White, non-Hispanic         NaN  "
      ]
     },
     "execution_count": 139,
     "metadata": {},
     "output_type": "execute_result"
    }
   ],
   "source": [
    "incidence_race2"
   ]
  },
  {
   "cell_type": "markdown",
   "metadata": {},
   "source": [
    "  \n",
    "  "
   ]
  },
  {
   "cell_type": "markdown",
   "metadata": {},
   "source": [
    "##### Let's figure out the answer with data from all the states"
   ]
  },
  {
   "cell_type": "markdown",
   "metadata": {},
   "source": [
    "We should have 52 readings for each Stratification1 for each year. Let's use `.count()` to check.  "
   ]
  },
  {
   "cell_type": "code",
   "execution_count": 140,
   "metadata": {},
   "outputs": [],
   "source": [
    "incidence_race3 = df_sub[(df_sub.Question == 'Arthritis among adults aged >= 18 years') & (df_sub.StratificationCategory1 == \"Race/Ethnicity\") &\n",
    "                         (df_sub.DataValueType == 'Age-adjusted Prevalence')].groupby(['YearStart', 'Stratification1'])['DataValue'].count()"
   ]
  },
  {
   "cell_type": "code",
   "execution_count": 141,
   "metadata": {},
   "outputs": [
    {
     "data": {
      "text/plain": [
       "YearStart  Stratification1          \n",
       "2011       Black, non-Hispanic          40\n",
       "           Hispanic                     51\n",
       "           Multiracial, non-Hispanic    47\n",
       "           Other, non-Hispanic          52\n",
       "           White, non-Hispanic          53\n",
       "2012       Black, non-Hispanic          41\n",
       "           Hispanic                     53\n",
       "           Multiracial, non-Hispanic    49\n",
       "           Other, non-Hispanic          52\n",
       "           White, non-Hispanic          52\n",
       "2013       Black, non-Hispanic          41\n",
       "           Hispanic                     50\n",
       "           Multiracial, non-Hispanic    47\n",
       "           Other, non-Hispanic          51\n",
       "           White, non-Hispanic          52\n",
       "2014       Black, non-Hispanic          41\n",
       "           Hispanic                     50\n",
       "           Multiracial, non-Hispanic    50\n",
       "           Other, non-Hispanic          52\n",
       "           White, non-Hispanic          52\n",
       "2015       Black, non-Hispanic          44\n",
       "           Hispanic                     49\n",
       "           Multiracial, non-Hispanic    51\n",
       "           Other, non-Hispanic          52\n",
       "           White, non-Hispanic          52\n",
       "Name: DataValue, dtype: int64"
      ]
     },
     "execution_count": 141,
     "metadata": {},
     "output_type": "execute_result"
    }
   ],
   "source": [
    "incidence_race3"
   ]
  },
  {
   "cell_type": "markdown",
   "metadata": {},
   "source": [
    "Let's use the same code from above to get the mean age-adjusted prevalence for each race/ethnicity per year."
   ]
  },
  {
   "cell_type": "code",
   "execution_count": 142,
   "metadata": {},
   "outputs": [],
   "source": [
    "incidence_race4 = df_sub[(df_sub.Question == 'Arthritis among adults aged >= 18 years') & (df_sub.StratificationCategory1 == \"Race/Ethnicity\") &\n",
    "                         (df_sub.DataValueType == 'Age-adjusted Prevalence')].groupby(['YearStart', 'Stratification1'])['DataValue'].mean()"
   ]
  },
  {
   "cell_type": "markdown",
   "metadata": {},
   "source": [
    "**Important Note:** For demo purposes only. In a real-life analysis, you should not take the mean or average of percentages when the total count of individuals across groups is unknown or not the same.  Weighted averages should be used when the totals are known.  "
   ]
  },
  {
   "cell_type": "code",
   "execution_count": 143,
   "metadata": {},
   "outputs": [
    {
     "data": {
      "text/plain": [
       "YearStart  Stratification1          \n",
       "2011       Black, non-Hispanic          25.027500\n",
       "           Hispanic                     21.219608\n",
       "           Multiracial, non-Hispanic    31.414894\n",
       "           Other, non-Hispanic          22.832692\n",
       "           White, non-Hispanic          23.901887\n",
       "2012       Black, non-Hispanic          26.156098\n",
       "           Hispanic                     21.873585\n",
       "           Multiracial, non-Hispanic    32.981633\n",
       "           Other, non-Hispanic          23.496154\n",
       "           White, non-Hispanic          24.861538\n",
       "2013       Black, non-Hispanic          25.802439\n",
       "           Hispanic                     21.020000\n",
       "           Multiracial, non-Hispanic    33.853191\n",
       "           Other, non-Hispanic          21.729412\n",
       "           White, non-Hispanic          24.421154\n",
       "2014       Black, non-Hispanic          26.343902\n",
       "           Hispanic                     20.454000\n",
       "           Multiracial, non-Hispanic    33.248000\n",
       "           Other, non-Hispanic          22.846154\n",
       "           White, non-Hispanic          24.919231\n",
       "2015       Black, non-Hispanic          24.588636\n",
       "           Hispanic                     19.465306\n",
       "           Multiracial, non-Hispanic    32.650980\n",
       "           Other, non-Hispanic          21.825000\n",
       "           White, non-Hispanic          24.367308\n",
       "Name: DataValue, dtype: float64"
      ]
     },
     "execution_count": 143,
     "metadata": {},
     "output_type": "execute_result"
    }
   ],
   "source": [
    "incidence_race4"
   ]
  },
  {
   "cell_type": "markdown",
   "metadata": {},
   "source": [
    "##### 3. Which states had the highest and lowest incidence of arthritis in 2015 for adults >= 18 years?"
   ]
  },
  {
   "cell_type": "code",
   "execution_count": 144,
   "metadata": {},
   "outputs": [
    {
     "data": {
      "text/plain": [
       "870"
      ]
     },
     "execution_count": 144,
     "metadata": {},
     "output_type": "execute_result"
    }
   ],
   "source": [
    "arthritis_2015 = df_sub[(df_sub.Question == 'Arthritis among adults aged >= 18 years') & (df_sub.YearStart == 2015.)]\n",
    "len(arthritis_2015)"
   ]
  },
  {
   "cell_type": "code",
   "execution_count": 145,
   "metadata": {},
   "outputs": [
    {
     "data": {
      "text/plain": [
       "LocationAbbr\n",
       "AK    22.261538\n",
       "AL    28.787500\n",
       "AR    29.806667\n",
       "AZ    21.793750\n",
       "CA    19.800000\n",
       "CO    22.425000\n",
       "CT    21.787500\n",
       "DC    18.621429\n",
       "DE    24.142857\n",
       "FL    22.225000\n",
       "GA    24.353333\n",
       "GU    18.778571\n",
       "HI    18.214286\n",
       "IA    24.726667\n",
       "ID    23.842857\n",
       "IL    20.820000\n",
       "IN    25.018750\n",
       "KS    23.987500\n",
       "KY    30.386667\n",
       "LA    26.618750\n",
       "MA    21.712500\n",
       "MD    20.550000\n",
       "ME    29.000000\n",
       "MI    27.050000\n",
       "MN    19.225000\n",
       "MO    28.273333\n",
       "MS    28.830769\n",
       "MT    28.300000\n",
       "NC    23.337500\n",
       "ND    24.516667\n",
       "NE    22.843750\n",
       "NH    23.392857\n",
       "NJ    21.750000\n",
       "NM    23.968750\n",
       "NV    20.350000\n",
       "NY    21.843750\n",
       "OH    25.593750\n",
       "OK    26.112500\n",
       "OR    25.556250\n",
       "PA    24.237500\n",
       "PR    21.662500\n",
       "RI    23.681250\n",
       "SC    26.412500\n",
       "SD    23.476923\n",
       "TN    31.535714\n",
       "TX    19.337500\n",
       "US    24.400000\n",
       "UT    20.685714\n",
       "VA    20.568750\n",
       "VI          NaN\n",
       "VT    25.007143\n",
       "WA    22.268750\n",
       "WI    24.087500\n",
       "WV    35.437500\n",
       "WY    27.000000\n",
       "Name: DataValue, dtype: float64"
      ]
     },
     "execution_count": 145,
     "metadata": {},
     "output_type": "execute_result"
    }
   ],
   "source": [
    "mean_incidence_by_state = arthritis_2015.groupby(['LocationAbbr'])['DataValue'].mean()\n",
    "mean_incidence_by_state"
   ]
  },
  {
   "cell_type": "code",
   "execution_count": 146,
   "metadata": {},
   "outputs": [
    {
     "data": {
      "text/plain": [
       "LocationAbbr\n",
       "HI    18.214286\n",
       "DC    18.621429\n",
       "GU    18.778571\n",
       "MN    19.225000\n",
       "TX    19.337500\n",
       "CA    19.800000\n",
       "NV    20.350000\n",
       "MD    20.550000\n",
       "VA    20.568750\n",
       "UT    20.685714\n",
       "IL    20.820000\n",
       "PR    21.662500\n",
       "MA    21.712500\n",
       "NJ    21.750000\n",
       "CT    21.787500\n",
       "AZ    21.793750\n",
       "NY    21.843750\n",
       "FL    22.225000\n",
       "AK    22.261538\n",
       "WA    22.268750\n",
       "CO    22.425000\n",
       "NE    22.843750\n",
       "NC    23.337500\n",
       "NH    23.392857\n",
       "SD    23.476923\n",
       "RI    23.681250\n",
       "ID    23.842857\n",
       "NM    23.968750\n",
       "KS    23.987500\n",
       "WI    24.087500\n",
       "DE    24.142857\n",
       "PA    24.237500\n",
       "GA    24.353333\n",
       "US    24.400000\n",
       "ND    24.516667\n",
       "IA    24.726667\n",
       "VT    25.007143\n",
       "IN    25.018750\n",
       "OR    25.556250\n",
       "OH    25.593750\n",
       "OK    26.112500\n",
       "SC    26.412500\n",
       "LA    26.618750\n",
       "WY    27.000000\n",
       "MI    27.050000\n",
       "MO    28.273333\n",
       "MT    28.300000\n",
       "AL    28.787500\n",
       "MS    28.830769\n",
       "ME    29.000000\n",
       "AR    29.806667\n",
       "KY    30.386667\n",
       "TN    31.535714\n",
       "WV    35.437500\n",
       "Name: DataValue, dtype: float64"
      ]
     },
     "execution_count": 146,
     "metadata": {},
     "output_type": "execute_result"
    }
   ],
   "source": [
    "sorted_values = mean_incidence_by_state.dropna().sort_values()\n",
    "sorted_values"
   ]
  },
  {
   "cell_type": "code",
   "execution_count": 147,
   "metadata": {},
   "outputs": [
    {
     "data": {
      "text/plain": [
       "LocationAbbr\n",
       "HI    18.214286\n",
       "Name: DataValue, dtype: float64"
      ]
     },
     "execution_count": 147,
     "metadata": {},
     "output_type": "execute_result"
    }
   ],
   "source": [
    "min_val = sorted_values.iloc[[0]] # First row in sorted list\n",
    "min_val"
   ]
  },
  {
   "cell_type": "code",
   "execution_count": 148,
   "metadata": {},
   "outputs": [
    {
     "data": {
      "text/plain": [
       "LocationAbbr\n",
       "WV    35.4375\n",
       "Name: DataValue, dtype: float64"
      ]
     },
     "execution_count": 148,
     "metadata": {},
     "output_type": "execute_result"
    }
   ],
   "source": [
    "max_val = sorted_values.iloc[[-1]] # Last row in sorted list\n",
    "max_val"
   ]
  },
  {
   "cell_type": "code",
   "execution_count": 149,
   "metadata": {},
   "outputs": [
    {
     "data": {
      "text/plain": [
       "LocationAbbr\n",
       "HI    18.214286\n",
       "WV    35.437500\n",
       "Name: DataValue, dtype: float64"
      ]
     },
     "execution_count": 149,
     "metadata": {},
     "output_type": "execute_result"
    }
   ],
   "source": [
    "min_and_max = sorted_values.iloc[[0, -1]] # First and last row in sorted list\n",
    "min_and_max"
   ]
  },
  {
   "cell_type": "markdown",
   "metadata": {},
   "source": [
    "  "
   ]
  },
  {
   "cell_type": "markdown",
   "metadata": {},
   "source": [
    "## Making Charts"
   ]
  },
  {
   "cell_type": "markdown",
   "metadata": {},
   "source": [
    "### Matplotlib"
   ]
  },
  {
   "cell_type": "markdown",
   "metadata": {},
   "source": [
    "[Matplotlib](https://matplotlib.org/) is a 2D plotting library that serves as the foundation for much of the plotting you will do in Jupyter. It generates decent charts out of the gate and is very useful when conducting an exploratory data analysis.\n",
    "\n",
    "The [Matplotlib Gallery](https://matplotlib.org/gallery/index.html) provides source code (either as .py file or in a Jupyter Notebook) to create the featured images."
   ]
  },
  {
   "cell_type": "markdown",
   "metadata": {},
   "source": [
    "#### matplotlib and pandas in action"
   ]
  },
  {
   "cell_type": "markdown",
   "metadata": {},
   "source": [
    "Let's subset the `annual_incidence` dataframe that we created above to generate a two-column dataset"
   ]
  },
  {
   "cell_type": "code",
   "execution_count": 176,
   "metadata": {},
   "outputs": [],
   "source": [
    "ai = annual_incidence[['YearStart', 'DataValue']].sort_values(by='YearStart')"
   ]
  },
  {
   "cell_type": "code",
   "execution_count": 177,
   "metadata": {},
   "outputs": [
    {
     "data": {
      "text/html": [
       "<div>\n",
       "<table border=\"1\" class=\"dataframe\">\n",
       "  <thead>\n",
       "    <tr style=\"text-align: right;\">\n",
       "      <th></th>\n",
       "      <th>YearStart</th>\n",
       "      <th>DataValue</th>\n",
       "    </tr>\n",
       "  </thead>\n",
       "  <tbody>\n",
       "    <tr>\n",
       "      <th>12996</th>\n",
       "      <td>2011</td>\n",
       "      <td>24.4</td>\n",
       "    </tr>\n",
       "    <tr>\n",
       "      <th>7765</th>\n",
       "      <td>2012</td>\n",
       "      <td>25.7</td>\n",
       "    </tr>\n",
       "    <tr>\n",
       "      <th>25173</th>\n",
       "      <td>2013</td>\n",
       "      <td>25.3</td>\n",
       "    </tr>\n",
       "    <tr>\n",
       "      <th>19953</th>\n",
       "      <td>2014</td>\n",
       "      <td>26.0</td>\n",
       "    </tr>\n",
       "    <tr>\n",
       "      <th>806</th>\n",
       "      <td>2015</td>\n",
       "      <td>25.3</td>\n",
       "    </tr>\n",
       "  </tbody>\n",
       "</table>\n",
       "</div>"
      ],
      "text/plain": [
       "       YearStart  DataValue\n",
       "12996       2011       24.4\n",
       "7765        2012       25.7\n",
       "25173       2013       25.3\n",
       "19953       2014       26.0\n",
       "806         2015       25.3"
      ]
     },
     "execution_count": 177,
     "metadata": {},
     "output_type": "execute_result"
    }
   ],
   "source": [
    "ai"
   ]
  },
  {
   "cell_type": "code",
   "execution_count": 182,
   "metadata": {
    "slideshow": {
     "slide_type": "slide"
    }
   },
   "outputs": [
    {
     "data": {
      "text/plain": [
       "<matplotlib.axes._subplots.AxesSubplot at 0x114688ef0>"
      ]
     },
     "execution_count": 182,
     "metadata": {},
     "output_type": "execute_result"
    },
    {
     "data": {
      "image/png": "[encoded data removed]",
      "text/plain": [
       "<matplotlib.figure.Figure at 0x128864710>"
      ]
     },
     "metadata": {},
     "output_type": "display_data"
    }
   ],
   "source": [
    "ai.set_index('YearStart')['DataValue'].plot.bar()"
   ]
  },
  {
   "cell_type": "markdown",
   "metadata": {},
   "source": [
    "##### How does the overall incidence vary by gender?"
   ]
  },
  {
   "cell_type": "code",
   "execution_count": 153,
   "metadata": {},
   "outputs": [],
   "source": [
    "gender_incidence = df_sub[(df_sub.Question == 'Arthritis among adults aged >= 18 years') &\n",
    "                         (df_sub.LocationAbbr == 'US') & \n",
    "                         (df_sub.DataValueType == 'Crude Prevalence')].groupby(['YearStart', 'Stratification1'])['DataValue'].mean()"
   ]
  },
  {
   "cell_type": "code",
   "execution_count": 154,
   "metadata": {
    "scrolled": true
   },
   "outputs": [
    {
     "data": {
      "text/plain": [
       "YearStart  Stratification1\n",
       "2011       Female             28.2\n",
       "           Male               20.7\n",
       "           Overall            24.4\n",
       "2012       Female             28.9\n",
       "           Male               22.4\n",
       "           Overall            25.7\n",
       "2013       Female             29.0\n",
       "           Male               21.6\n",
       "           Overall            25.3\n",
       "2014       Female             29.9\n",
       "           Male               22.4\n",
       "           Overall            26.0\n",
       "2015       Female             29.0\n",
       "           Male               22.0\n",
       "           Overall            25.3\n",
       "Name: DataValue, dtype: float64"
      ]
     },
     "execution_count": 154,
     "metadata": {},
     "output_type": "execute_result"
    }
   ],
   "source": [
    "gender_incidence"
   ]
  },
  {
   "cell_type": "code",
   "execution_count": 155,
   "metadata": {},
   "outputs": [],
   "source": [
    "#gif.head()"
   ]
  },
  {
   "cell_type": "code",
   "execution_count": 181,
   "metadata": {},
   "outputs": [
    {
     "data": {
      "text/plain": [
       "<matplotlib.axes._subplots.AxesSubplot at 0x114492c50>"
      ]
     },
     "execution_count": 181,
     "metadata": {},
     "output_type": "execute_result"
    },
    {
     "data": {
      "image/png": "[encoded data removed]",
      "text/plain": [
       "<matplotlib.figure.Figure at 0x114492400>"
      ]
     },
     "metadata": {},
     "output_type": "display_data"
    }
   ],
   "source": [
    "gif = gender_incidence.unstack()\n",
    "gif.plot.bar()"
   ]
  },
  {
   "cell_type": "markdown",
   "metadata": {},
   "source": [
    "##### Homework: Which states had the highest and lowest incidence of arthritis in 2016?"
   ]
  },
  {
   "cell_type": "markdown",
   "metadata": {},
   "source": [
    "  "
   ]
  },
  {
   "cell_type": "markdown",
   "metadata": {},
   "source": [
    "  "
   ]
  },
  {
   "cell_type": "markdown",
   "metadata": {
    "collapsed": true,
    "scrolled": true
   },
   "source": [
    "### Seaborn\n",
    "[Seaborn](https://seaborn.pydata.org/) is a Python visualization library based on matplotlib that provides nicer graphs. The import convention is:"
   ]
  },
  {
   "cell_type": "code",
   "execution_count": 178,
   "metadata": {},
   "outputs": [],
   "source": [
    "import seaborn as sns"
   ]
  },
  {
   "cell_type": "code",
   "execution_count": 180,
   "metadata": {},
   "outputs": [],
   "source": [
    "sns.set()"
   ]
  },
  {
   "cell_type": "markdown",
   "metadata": {},
   "source": [
    "Now that you've imported Seaborn, if you re-run your Matplotlib plots above, they will look nice!\n",
    "\n",
    "Use Seaborn's [themes](https://seaborn.pydata.org/tutorial/aesthetics.html#aesthetics-tutorial) and [color palettes](https://seaborn.pydata.org/tutorial/color_palettes.html#palette-tutorial) to further decorate your plot."
   ]
  },
  {
   "cell_type": "code",
   "execution_count": 179,
   "metadata": {},
   "outputs": [],
   "source": [
    "sns.set_palette(sns.color_palette(\"Set2\", 10))"
   ]
  },
  {
   "cell_type": "markdown",
   "metadata": {},
   "source": [
    "[Example Gallery](https://seaborn.pydata.org/examples/index.html#example-gallery)"
   ]
  },
  {
   "cell_type": "markdown",
   "metadata": {},
   "source": [
    "  "
   ]
  },
  {
   "cell_type": "markdown",
   "metadata": {},
   "source": [
    "### Bokeh"
   ]
  },
  {
   "cell_type": "markdown",
   "metadata": {},
   "source": [
    "[Bokeh](https://bokeh.pydata.org/en/latest/) is a platform for interactive visualization and data applications in modern web browsers. Still under development with occasional breaking changes. The Bokeh Organization includes other projects including [Datashader](https://bokeh.github.io/datashader-docs/) and [HoloViews](http://holoviews.org/).\n",
    "\n",
    "You can follow Bokeh development on the [Bokeh Blog](https://bokeh.github.io/blog/2017/11/28/release-0-12-11/)."
   ]
  },
  {
   "cell_type": "markdown",
   "metadata": {},
   "source": [
    "  "
   ]
  },
  {
   "cell_type": "markdown",
   "metadata": {},
   "source": [
    "### Altair"
   ]
  },
  {
   "cell_type": "markdown",
   "metadata": {},
   "source": [
    "[Altair](https://altair-viz.github.io/) is a declarative statistical visualization library for Python developed by Jake VanDerPlas and Brian Granger that is built on top of the powerful [Vega-Lite](https://vega.github.io/vega-lite/) visualization grammar."
   ]
  },
  {
   "cell_type": "markdown",
   "metadata": {},
   "source": [
    "  "
   ]
  },
  {
   "cell_type": "markdown",
   "metadata": {},
   "source": [
    "### Plotly"
   ]
  },
  {
   "cell_type": "markdown",
   "metadata": {},
   "source": [
    "[Plotly's](https://plot.ly/) Python graphing library makes really nice interactive, publication-quality graphs online. "
   ]
  },
  {
   "cell_type": "markdown",
   "metadata": {},
   "source": [
    "  "
   ]
  },
  {
   "cell_type": "markdown",
   "metadata": {},
   "source": [
    "### ggplot"
   ]
  },
  {
   "cell_type": "markdown",
   "metadata": {},
   "source": [
    "[ggplot](http://ggplot.yhathq.com/) is a plotting system for Python based on R's ggplot2 and the Grammar of Graphics. Use it for making professional-looking plots quickly.  \n",
    "\n",
    "Installing ggplot\n",
    "https://pypi.python.org/pypi/ggplot\n",
    "\n"
   ]
  },
  {
   "cell_type": "markdown",
   "metadata": {},
   "source": [
    "  "
   ]
  }
 ],
 "metadata": {
  "kernelspec": {
   "display_name": "Python 3",
   "language": "python",
   "name": "python3"
  },
  "language_info": {
   "codemirror_mode": {
    "name": "ipython",
    "version": 3
   },
   "file_extension": ".py",
   "mimetype": "text/x-python",
   "name": "python",
   "nbconvert_exporter": "python",
   "pygments_lexer": "ipython3",
   "version": "3.4.2"
  }
 },
 "nbformat": 4,
 "nbformat_minor": 2
}
